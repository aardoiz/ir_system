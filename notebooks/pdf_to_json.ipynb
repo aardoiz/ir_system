{
 "cells": [
  {
   "cell_type": "code",
   "execution_count": 11,
   "id": "homeless-seller",
   "metadata": {},
   "outputs": [],
   "source": [
    "from pdfminer.layout import LAParams, LTTextBox\n",
    "from pdfminer.pdfpage import PDFPage\n",
    "from pdfminer.pdfinterp import PDFResourceManager\n",
    "from pdfminer.pdfinterp import PDFPageInterpreter\n",
    "from pdfminer.converter import PDFPageAggregator\n",
    "import json\n",
    "import time \n",
    "from os import listdir\n",
    "\n",
    "import re\n",
    "import spacy\n",
    "import es_core_news_sm"
   ]
  },
  {
   "cell_type": "code",
   "execution_count": 13,
   "id": "98c117e7",
   "metadata": {},
   "outputs": [
    {
     "ename": "OSError",
     "evalue": "[E050] Can't find model 'es_core_news_sm'. It doesn't seem to be a Python package or a valid path to a data directory.",
     "output_type": "error",
     "traceback": [
      "\u001b[0;31m---------------------------------------------------------------------------\u001b[0m",
      "\u001b[0;31mOSError\u001b[0m                                   Traceback (most recent call last)",
      "\u001b[0;32m<ipython-input-13-8c8a69433466>\u001b[0m in \u001b[0;36m<module>\u001b[0;34m\u001b[0m\n\u001b[0;32m----> 1\u001b[0;31m \u001b[0mnlp\u001b[0m \u001b[0;34m=\u001b[0m \u001b[0mspacy\u001b[0m\u001b[0;34m.\u001b[0m\u001b[0mload\u001b[0m\u001b[0;34m(\u001b[0m\u001b[0;34m\"es_core_news_sm\"\u001b[0m\u001b[0;34m)\u001b[0m\u001b[0;34m\u001b[0m\u001b[0;34m\u001b[0m\u001b[0m\n\u001b[0m",
      "\u001b[0;32m~/.local/lib/python3.8/site-packages/spacy/__init__.py\u001b[0m in \u001b[0;36mload\u001b[0;34m(name, vocab, disable, exclude, config)\u001b[0m\n\u001b[1;32m     49\u001b[0m     \u001b[0mRETURNS\u001b[0m \u001b[0;34m(\u001b[0m\u001b[0mLanguage\u001b[0m\u001b[0;34m)\u001b[0m\u001b[0;34m:\u001b[0m \u001b[0mThe\u001b[0m \u001b[0mloaded\u001b[0m \u001b[0mnlp\u001b[0m \u001b[0mobject\u001b[0m\u001b[0;34m.\u001b[0m\u001b[0;34m\u001b[0m\u001b[0;34m\u001b[0m\u001b[0m\n\u001b[1;32m     50\u001b[0m     \"\"\"\n\u001b[0;32m---> 51\u001b[0;31m     return util.load_model(\n\u001b[0m\u001b[1;32m     52\u001b[0m         \u001b[0mname\u001b[0m\u001b[0;34m,\u001b[0m \u001b[0mvocab\u001b[0m\u001b[0;34m=\u001b[0m\u001b[0mvocab\u001b[0m\u001b[0;34m,\u001b[0m \u001b[0mdisable\u001b[0m\u001b[0;34m=\u001b[0m\u001b[0mdisable\u001b[0m\u001b[0;34m,\u001b[0m \u001b[0mexclude\u001b[0m\u001b[0;34m=\u001b[0m\u001b[0mexclude\u001b[0m\u001b[0;34m,\u001b[0m \u001b[0mconfig\u001b[0m\u001b[0;34m=\u001b[0m\u001b[0mconfig\u001b[0m\u001b[0;34m\u001b[0m\u001b[0;34m\u001b[0m\u001b[0m\n\u001b[1;32m     53\u001b[0m     )\n",
      "\u001b[0;32m~/.local/lib/python3.8/site-packages/spacy/util.py\u001b[0m in \u001b[0;36mload_model\u001b[0;34m(name, vocab, disable, exclude, config)\u001b[0m\n\u001b[1;32m    352\u001b[0m     \u001b[0;32mif\u001b[0m \u001b[0mname\u001b[0m \u001b[0;32min\u001b[0m \u001b[0mOLD_MODEL_SHORTCUTS\u001b[0m\u001b[0;34m:\u001b[0m\u001b[0;34m\u001b[0m\u001b[0;34m\u001b[0m\u001b[0m\n\u001b[1;32m    353\u001b[0m         \u001b[0;32mraise\u001b[0m \u001b[0mIOError\u001b[0m\u001b[0;34m(\u001b[0m\u001b[0mErrors\u001b[0m\u001b[0;34m.\u001b[0m\u001b[0mE941\u001b[0m\u001b[0;34m.\u001b[0m\u001b[0mformat\u001b[0m\u001b[0;34m(\u001b[0m\u001b[0mname\u001b[0m\u001b[0;34m=\u001b[0m\u001b[0mname\u001b[0m\u001b[0;34m,\u001b[0m \u001b[0mfull\u001b[0m\u001b[0;34m=\u001b[0m\u001b[0mOLD_MODEL_SHORTCUTS\u001b[0m\u001b[0;34m[\u001b[0m\u001b[0mname\u001b[0m\u001b[0;34m]\u001b[0m\u001b[0;34m)\u001b[0m\u001b[0;34m)\u001b[0m\u001b[0;34m\u001b[0m\u001b[0;34m\u001b[0m\u001b[0m\n\u001b[0;32m--> 354\u001b[0;31m     \u001b[0;32mraise\u001b[0m \u001b[0mIOError\u001b[0m\u001b[0;34m(\u001b[0m\u001b[0mErrors\u001b[0m\u001b[0;34m.\u001b[0m\u001b[0mE050\u001b[0m\u001b[0;34m.\u001b[0m\u001b[0mformat\u001b[0m\u001b[0;34m(\u001b[0m\u001b[0mname\u001b[0m\u001b[0;34m=\u001b[0m\u001b[0mname\u001b[0m\u001b[0;34m)\u001b[0m\u001b[0;34m)\u001b[0m\u001b[0;34m\u001b[0m\u001b[0;34m\u001b[0m\u001b[0m\n\u001b[0m\u001b[1;32m    355\u001b[0m \u001b[0;34m\u001b[0m\u001b[0m\n\u001b[1;32m    356\u001b[0m \u001b[0;34m\u001b[0m\u001b[0m\n",
      "\u001b[0;31mOSError\u001b[0m: [E050] Can't find model 'es_core_news_sm'. It doesn't seem to be a Python package or a valid path to a data directory."
     ]
    }
   ],
   "source": [
    "nlp = spacy.load(\"es_core_news_sm\")"
   ]
  },
  {
   "cell_type": "code",
   "execution_count": 2,
   "id": "heard-gambling",
   "metadata": {},
   "outputs": [],
   "source": [
    "# Carga de docs\n",
    "\n",
    "doc = '../data/pdfs/edicion//Unidad2_Audiolibro.pdf'\n",
    "\n",
    "js = {}\n",
    "js['name'] = f'{doc[:-4]}.json' # Apañar\n"
   ]
  },
  {
   "cell_type": "code",
   "execution_count": 28,
   "id": "exotic-estimate",
   "metadata": {},
   "outputs": [],
   "source": [
    "# Parámetros del pdfminer\n",
    "\n",
    "fp = open(doc, 'rb')\n",
    "rsrcmgr = PDFResourceManager()\n",
    "laparams = LAParams()\n",
    "device = PDFPageAggregator(rsrcmgr, laparams=laparams)\n",
    "interpreter = PDFPageInterpreter(rsrcmgr, device)\n",
    "pages = PDFPage.get_pages(fp)\n",
    "\n",
    "tuplas = {}\n",
    "frases_final = []\n",
    "\n",
    "lista_pruebas_solo_jupyter = []\n",
    "lista_buena = []\n",
    "lista_final = []\n"
   ]
  },
  {
   "cell_type": "code",
   "execution_count": 29,
   "id": "excited-freeware",
   "metadata": {},
   "outputs": [
    {
     "name": "stdout",
     "output_type": "stream",
     "text": [
      "Processing next page...\n",
      "['UNIDAD 2: SEGUNDA PARTE', 'EL AUDIOLIBRO']\n",
      "Processing next page...\n",
      "['', '', 'INTRODUCCIÓN En los últimos años, los audiolibros han irrumpido con fuerza en el sector editorial. Este hecho ha desencadenado la necesidad de estudios profundo sobre el tema. Aunque en apariencia son una gran novedad, los audiolibros no son un producto completamente nuevo sino el resultado de la evolución de una serie de prácticas y soportes con un larga tradición histórica.', 'En este tema, primero, analizaremos sus orígenes y evolución con el objetivo de lograr una mayor delimitación del término. Una parte importante del interés del “fenómeno audiolibro” radica en el gran crecimiento experimentado en su uso y ventas y su impacto económico para la industria editorial. Pero, por otra parte, ha dado lugar a lo que algunos autores denominan “nueva oralidad” (u oralidad digital) y la aparición de un nuevo tipo de lector: el audiolector. En este aspecto, eldebate', 'CONCEPTO. Historia y evolución El origen de los audiolibros se remonta a los “libros parlantes” creados por el Instituto Real Nacional para Ciegos (RNIB) del Reino Unido, hacia 1920, orientados a los discapacitados visuales (Cordón García,2018)1. En el mismo sentido, haciendo referencia a contenidos y soportes Vázquez2 indica que los primeros prototipos de audiolibros fueron creados en “los años 30, en el Reino Unido con historias de Agatha Christie y Joseph Conrad, en discos de 25 minutos aproximadamente”', '', 'Mujer oyendo un “talking book” en torno a 1939', '1 Cordón García, J. A. (2018). Leer escuchando: Reflexiones en torno a los audiolibros como sector emergente. Anuario ThinkEPI, 12(1), 170-182. 2 Vázquez, José Antonio et al.(2017). Infografía: Evolución de los audiolibros en español. Disponible en https://www.dosdoce.com/2017/01/18/infografia-evolucion-los-audiolibros-espanol/']\n",
      "Processing next page...\n",
      "['', 'Sin embargo, el origen de las grabaciones de sonido y, más concretamente, de la voz humana, son todavía más antiguos. Podríamos remontarnos a la invención del gramófono, basado en los trabajos de Edison y patentado por Emile Berliner en 1887. Sin querer hacer una historia pormenorizada de la evolución del registro del sonido y sus distintos soportes y dispositivos reproductores, sí que es importante destacar algunos hitos tecnológicos que se han producido en dos períodos: 1945 a 1975 (era magnética) y 1975 a 2020 (era digital) y que ayudan a comprender la situación actual.', 'LA CINTA DE CASETE', '', 'Casete compacto Phillips (1962-1964)', 'Como una evolución de la cinta magnetofónica de bobinas prexistente surge el casete o casete compacto. Este soporte comenzó ser comercializado por la compañía Philips, entre 1962 y 1964, y supuso un gran avance por su pequeño tamaño y coste. (llegando en 1969 Inicialmente ofrecían capacidad de almacenamiento de 60 minutos (30 minutos por cada cara). de Paralelamente, los dispositivos reproductores también se fueron popularizando. Posteriormente, en 1979, la aparición de Walkman supondría la cumbre de los reproductores de casete de tamaño reducido y realmente portátil. Todas las tecnologías de audio anteriores eran comparativamente inadecuadas para el mercado general, ya que requerían enormes pilas de bobinas de cinta o discos de grabación para transportar incluso una sola novela de gran formato. Así como equipos grandes y costosos para su reproducción.', 'los primeros', 'libros en casete).', 'También la disponibilidad de reproductores de casete en los vehículos supuso un gran impulso. Whitten (2002)3 llega a afirmar que “ La industria de los audiolibros nació en el tráfico. Es decir, la idea de grabar libros de larga duración que pudieran ser escuchados mientras se viaja al trabajo fue engendrada por Duvall Hecht en 1973 por su propio deseo de escuchar libros durante su viaje diario a California. Para 1977 Hecht había establecido la primera empresa comercial, Books on Tape, para alquilar libros grabados a los consumidores” 3 Whitten, R. (2002). Growth of the audio publishing industry. Publishing research quarterly, 18(3), 3-10']\n",
      "Processing next page...\n",
      "['', 'En este mismo sentido, Rubbery (2011)4 dice “La facilidad de uso de las cintas de audio las estableció rápidamente como el medio preferido por quienes escuchan literatura grabada en automóviles con reproductor de casetes incorporado y en dispositivos portátiles de escucha como el Walkman”', '', 'Reproductor Walkman de Sony (1979)', 'CD (COMPACT DISC) A partir de 1980, ya en la era del sonido digital, aparece el CD (compact disc) y se comienzan a emplear como soporte de los audiolibros. Este soporte tenía a su favor la alta resistencia, su tamaño y la gran capacidad de almacenamiento. Posteriormente, en 1984, aparece, además, un reproductor portátil; conocido como discman. Aunque se han usado como soporte para audiolibros durante algún tiempo, su uso actual es prácticamente nulo. El fracaso de la editorial Salamandra cuando, en 2003, publicó Harry Potter en ocho CDs, sería un claro ejemplo. EL FORMATO MP3 Es el formato de audio más comúnmente utilizado para sonido tanto para su almacenamiento y reproducción en ordenadores como en reproductores de audio portátil. Aunque su creación es anterior, en 1992 la ISO declaró al MP3 como un estándar de compresión de audio. Técnicamente se trata de un formato de compresión de audio digital que usa un algoritmo con pérdida (elimina ciertas frecuencias) para conseguir un tamaño de archivo menor, con uno niveles aceptables de calidad. Esto facilita enormemente su almacenamiento y distribución. Actualmente, es el principal formato de los audiolibros, aunque no el único.', '4 Rubery, M. (2011), Audiobooks, Literature, and Sound Studies, New York: Routledge.']\n",
      "Processing next page...\n",
      "['', 'TELEFONÓ MÓVIL/ SMARTPHONE La aparición del teléfono móvil y su posterior transformación en teléfono inteligente (smartphone) es quizá el principal avance tecnológico relacionado con la actual difusión del audiolibro. Se trata de es un dispositivo móvil que combina las funciones de un teléfono móvil y de un ordenador de bolsillo. Los actuales teléfonos inteligentes tienen sus orígenes en de la década de los 2000 y se popularizaron muy rápidamente en el transcurso de la década siguiente. Entre sus características más destacables: la pantalla táctil , el tamaño de esta (más grande que los teléfonos anteriores), la función multitarea, las funciones multimedia (cámara y reproductor de audio/vídeo),el acceso a Internet, la capacidad de leer documentos en variedad de formatos. En la actualidad son uno de los dispositivos de lectura digital preferido por los usuarios. Según algunos estudios el 92% de las personas que escuchan audiolibros lo hacen a través de dispositivos móviles5. SERVICIOS EN STREAMING', 'Streaming es una la tecnología que permite transmitir archivos de audio y vídeo en un flujo continuo a través de Internet, ya sea con una conexión alámbrica o inalámbrica. En algunos casos además, se permite su descarga. Los contenidos a transmitir son muy variados: películas, programas de TV , videos musicales o música. La popularización de esta tecnología ha venido de la mano de la amplia extensión del acceso a Internet y la mejora de la velocidad de transmisión (ancho de banda).', 'Actualmente, una serie de plataformas que ofrecen este tipo de servicios, por ejemplo Netflix, Spotify o Amazon, se han convertido en una forma muy popular de consumo de contenidos culturales En algunos casos ofrecen además servicios especializados en audiolibros como Audible (de Amazon) DESARROLLO DE APPS', 'Paralelamente estas plataformas han desarrollado sus propias apps. La app o aplicación móvil es un programa informático diseñado para ejecutarse en teléfonos inteligentes, tabletas y otros dispositivos móviles. La app permite al usuario realizar de forma fácil un conjunto de tareas como la lectura en línea, la descarga o la consulta sin acceso a Internet.', 'Por ejemplo, en el caso de Audible, la app permite la navegación por capítulos, añadir marcadores propios, cambiar la velocidad de narración o puede trabajar en segundo plano, leyendo y descargando al mismo tiempo', '5 Sellés, Victor .(2018). ¿Son los audiolibros una opción rentable?. Disponible en https://victorselles.com/audiolibros-una-opcion-rentable/']\n",
      "Processing next page...\n",
      "['', '', 'A MODO DE RESUMEN:', 'Los editores de audiolibros siempre han estado a la vanguardia de la transformación tecnológica de la industria del libro. Desde las cintas de bobinas y los discos de larga duración (Lp) hasta las casetes, discos compactos, MP3 y servicios de streaming, abundan los ejemplos de innovacion.', 'Aunque durante 20 años, en la edición de audiolibros, convivieron tecnologías muy diversas como, por ejemplo, vinilos, casetes, CD, mp3, etc. ,actualmente, han sido desplazadas por los servicios en streaming, que combinados con la popularización de los smartphones, han descubierto la verdadera potencialidad de un mercado que hasta la segunda mitad del siglo XXI estaba restringido a círculos muy especializados (Cordón García, 2018).', '']\n",
      "Processing next page...\n",
      "['', '¿Qué es un audiolibro? En líneas generales, la mayor parte de los intentos de delimitar y explicar el término audiolibro son coincidentes. Un audiolibro en su definición más amplia es “una grabación de un texto, típicamente un libro existente, leído por el autor, un actor profesional, una celebridad o un aficionado” Algunas grabaciones también incluyen música, múltiples actores y efectos de sonidos más sofisticados que los acercan al género del drama radiofónico” (Colbjørnsen, 2015) 6.', 'De forma casi idéntica, García-Rodríguez y Gómez-Díaz (2019)7 definen el audiolibro como “es un grabación de un libro leído en voz alta, por una sola persona o dramatizados con varias voces y la incorporación de música y efectos sonoros”', 'Vallorani (2011)8 explica que el audiolibro consta de una grabación audio en casetes, CD, CD-MP3, incluso es descargable por Internet, e incluye la versión integral o reducida en voz alta de libros leídos por narradores profesionales, actores, escritores y poetas, a veces acompañados de música u otros efectos sonoros', 'De esta definiciones podemos extraer algunas ideas útiles:', 'La grabación del texto o libro se corresponde a una obra prexistente. Es decir, el audiolibro rara vez existe de forma independiente, sino que representa la adaptación sonora de una obra que existe en formato impreso. En este sentido, la versión sonora del texto puede ser una versión completa o una versión resumida.', 'La idea de audiolibro es independiente de su soporte. Una misma grabación sonora puede existir en varios soportes, como CD y como un archivo digital, por ejemplo. Además un mismo archivo digital puede estar disponible en distintos formatos: mp3 , ACC o WMA, por ejemplo.', 'La diferencia más destacable entre los audiolibros viene del estilo de lectura aplicado. Puede ser una voz individual (lector - narrador) o múltiples voces. Además de la existencia o no de música y efectos de sonido añadidos.', '6 Colbjørnsen, T. (2015). The accidental avant-garde: audiobook technologies and publishing strategies from cassette tapes to online streaming services. Northern Lights: Film & Media Studies Yearbook, 13(1) 83-103', '7 García-Rodríguez, A., & Gómez-Díaz, R. (2019). ¿Leer con los oídos?: Audiolibros y literatura infantil y juvenil. Anuario ThinkEPI, 13 8 Vallorani, C. (2011). La oralidad tecnológica-digital: Estudio pragmático-comunicativo sobre la oralidad en el audiolibro Disponible en http://rua.ua.es/dspace/handle/10045/19656']\n",
      "Processing next page...\n",
      "['', 'En este sentido según Cahill (2017)9 los estilos de lectura se puede agrupar en cuatro categorías generales: con voz completa (fully voiced), con voz parcial (partially voiced), sin voz (unvoiced) y con múltiples voces (multivoiced). Cada uno de estos estilos se ajusta mejor al audiolibro dependiendo del tipo de obra. La primera, y más común, es la lectura con voz completa. En este caso, se usan voces distintas para cada personaje de forma muy parecida a los actores de una obra de teatro. Por el contrario, la producción con voz parcial se centra en la individualización de uno o más personajes, permitiendo que el resto (a menudo incluyendo al narrador) se mantenga en un segundo plano. Las lecturas “sin voz” no son silenciosas (como pudiera parecer por su nombre), sino lecturas directas del texto a una sola voz, sin recurrir a ningún tipo de juego de roles vocal. La última categoría, multivoiced, también implica un elenco de lectores individuales, cada uno responsable de un personaje. Aunque puede parecer igual al estilo de voz completa, la dinámica de la integración de múltiples lectores cambia considerablemente el panorama del audio, pudiendo sonar mecánico mediante la integración de uno o dos narradores que va indicando ” él dijo, ella dijo, etc…” para dar paso a las voces individuales.', '', 'En mi opinión personal, en todas estas aproximaciones a la idea del audiolibro se ha obviado la posibilidad de generar las grabaciones sonoras a partir de programas text to speech. Aunque con los desarrollos actuales las voces pueden sonar mecánicas o robotizadas, incapaces de competir con la voz humana en cuanto a la transmisión de emociones, previsiblemente mejorarán en años próximos y que pueden constituir una alternativa muy rentable a la producción de los audiolibros.', '.', '', '', '', '', '', '', '9 CAHILL. Maria and MOORE, Jennifer.(2017). A Sound History: Audiobooks Are Music to Children’s Ears']\n",
      "Processing next page...\n"
     ]
    },
    {
     "name": "stdout",
     "output_type": "stream",
     "text": [
      "['', 'INDUSTRIA DEL AUDIOLIBRO. Mercado español e iberoamericano', 'A nivel global, uno de los indicadores más evidentes del mercado del audiolibro es el crecimiento del número de títulos publicados. Según una encuesta de ventas de 2018 de los miembros de la Asociación de Editores de Audio de EE.UU., la producción de títulos entre 2014 y 2018 casi se duplicó. Por otra parte, en cuanto a los mercados anglosajones, un informe señala que las principales editoriales les han confirmado que 1 de cada 10 libros vendidos es en formato audio.', 'En concreto, HarperCollins y Hachette ya declaran que los audiolibros les suponen el 25% y 21%, respectivamente (incluyendo los ebooks en Hachette) de todos sus ingresos digitales. (Según Hurtado (2018)10: “Los audiolibros merecen una especial mención por el crecimiento que han tenido en el mercado estadounidense y las apuestas que editoriales de Iberoamérica están haciendo en la producción de contenidos en este nuevo formato…….Para el caso del mercado estadounidense de 7.237 títulos en este formato que había en el año 2011, el año 2015 cerró con 35.574, lo que corresponde a un incremento de casi el 400)', 'En el caso del audiolibro en español, en España y Latinoamérica, aunque hay un crecimiento importante no alcanza las tasas de otros mercados. La creciente apuesta de autores, agentes y editoriales por los audiolibros, así como la irrupción en España y América Latina de plataformas especializadas en la comercialización de audiolibros como Audible, Storytel, Kobo, Google, entre otras, también coincide con la tendencia en otros mercados', 'Debido a que hay pocos informes o estudios que permitan el análisis de la evolución del mercado del audiolibro de forma separada del ebook, usaremos, de forma preferente, para la obtención de datos relativos al mercado español y latinoamericano, los estudios de Bookwire (https://www.bookwire.de/es/) en colaboración con Dosdoce.com (https://www.dosdoce.com/) ha realizado en los últimos años.', 'A partir de estos trabajos extraemos una serie de características que nos permiten obtener una imagen bastante completa de la situación actual, pero que al tratarse de un mercado en plena evolución debe entenderse como “temporal”.', '• Se ha producido un considerable incremento de las ventas.', 'En 2018 la estimación del volumen de negocio del mercado de audiolibros en español se situaba entre tres y cinco millones. Hoy la mayoría de las editoriales que comercializan audiolibros estiman que en 2019 las ventas de audiolibros generaron entre cinco y siete millones de euros. 11Todo indica que en 2020 experimentaremos un crecimiento de entre un 20 y 30% en', '10 Hurtado. Jaime Iván (2018). Tendencias de las edición digital 2017-2018. Agosto 2018 Disponible en http://jaimeivanhurtado.com/tendencias-de-la-edicion-digital-2017-2018/ 11 Bookwire.(2020), Evolución del mercado digital (ebooks y audiolibros) en España y América Latina:Informe Bookwire 2020. Disponible en https://www.dosdoce.com/wp- content/uploads/2020/04/INFORME-BOOKWIRE-2020.pdf']\n",
      "Processing next page...\n",
      "['', 'las ventas de audiolibros, y alcanzaremos los diez millones de euros en los mercados en español12', '', 'Evolución del volumen de negocio audiolibros', 'Fuente: Informe Bookwire 2020', '• Se ha producido un considerable incremento en la oferta de contenidos en español .', '', '“Hay un “crecimiento de la oferta de títulos en este nuevo formato en un 33% en 2017 en comparación con 2016. La oferta de audiolibros en español supera ya los 4.000 títulos, frente al apenas un millar de hace sólo unos años” ”(Bookwire y Dosdoce.com, 2018)', '', 'En el siguiente gráfico se pueden ver las previsiones para el año 2020 (14.000 títulos) y la evolución de los últimos cuatro años', '', 'Evolución títulos (audiolibros) publicados', '12 Bookwire.(2020), Evolución del mercado digital (ebooks y audiolibros) en España y América Latina:Informe Bookwire 2020. Disponible en']\n",
      "Processing next page...\n",
      "['', 'Fuente: Informe Bookwire 2020', '', 'Desde el punto de vista de los contenidos debemos indicar que “más del 77% son de ficción, frente al 23% de no ficción (Riaza, 2016)13 . Respecto a los géneros más escuchados cabe destacar “aquellos relacionados con el thriller y misterio, seguidos de la novela histórica, biografías y novela romántica”', '• Se ha producido una transformación en los canales de distribución y venta', '“El principal canal de ventas de audiolibros son las plataformas de suscripción representando el 83% de las ventas. Las editoriales que comercializan hoy en día audiolibros indican que las plataformas de suscripción como Storytel, Audible, Scribd, Kobo, entre otras, se han convertido en el principal canal de venta de audiolibros en español. En segundo lugar, sitúan a los canales de venta unitaria como Google Play o Apple Books, y en tercer lugar la venta a bibliotecas (Bookwire & Dosdoce, 2020).', '', 'En este contexto, las ventas de audiolibros en plataformas de subscripción de tarifa plana (flat-subscription) han crecido mucho, mientas que las plataformas de subscripción que solo permiten el consumo de un audiolibro al mes (conocidas como subscripción por crédito) están perdiendo cuota de mercado. Respecto a las ventas unitarias han bajado. El descenso se debe a varios motivos. Por un lado, el alto precio de venta al público de los audiolibros a la carta (venta unitaria), que gira alrededor de los 20 euros para las novedades, y por otro lado, la aparición de diversas plataformas de subscripción. Sin embargo el comportamiento de algunos grandes productores, como Penguin Random House, de abandonar la venta a través de la plataformas a favor de la venta unitaria, podría indicar que esta tendencia puede cambiar en el futuro14 Respecto a las ventas a bibliotecas en el mercado español todavía no alcanzan la situación de otros mercados, aunque son un canal al alza.', '13 Riaza, Maribel et al. (2016) El creciente mercado de audiolibros en español. Disponible en: http://www.dosdoce.com/2016/11/07/creciente-mercado-audiolibros-espanol/ 14 Ruiz Mantilla, Jesús (2020).Órdago a las plataformas de audiolibros. En: El País 9 febrero 2020']\n",
      "Processing next page...\n",
      "['', 'DISTRIBUCIÓN DEL MERCADO El principal mercado de audiolibros en español, en 2019, sigue siendo Estados Unidos, seguido de México , en tercer lugar España y, por último, el resto de países de América Latina (Bookwire & Dosdoce, 2020).', '', 'Distribución del mercado del audiolibro en español', '', '.', '', '']\n",
      "Processing next page...\n",
      "['', 'PLATAFORMAS ESPECIALIZADAS', 'Cada día hay más plataformas especializadas en la comercialización de audiolibros como Audible, Storytel, BookChoice, Kobo, Google, entre otras.', 'https://www.audible.com/', 'Audible, fundada hace 22 años, fue adquirida por Amazon en 2008. Es el mayor proveedor del mundo de audio libros digitales descargables con aproximadamente 200.000 títulos según su información. de los cuales uno 90 estarían en español. Los audiolibros se pueden comprar individualmente o como parte de diferentes tipos de suscripciones. Como parte de un modelo de negocio cerrado es un requisito previo contar con una cuenta de Amazon para acceder a la comprar libros en cualquier caso', 'La app de Audible permite el acceso a títulos adquiridos en cualquier momento, como un estante para libros digitales y os títulos se pueden reproducir a través de teléfonos inteligentes Android, teléfonos con Windows, iPhones o tabletas y también con los altavoces de Amazon.', '', 'https://www.storytel.com/es/es/', 'Storytel, es una empresa europea fundada en 2005, en Suecia. Ofrece un servicio basado en suscripción de audiolibros (streaming de audiolibros) y libros electrónicos. Está actualmente disponible en 9 países, entre ellos España , aunque su mercado principal se centra en los países del norte de Europa. Storytel pretende convertirse en la principal plataforma de audiolibros en español. Comercializa tanto audiolibros de producción propia, con grabaciones en estudios profesionales con actores de doblaje, como audiolibros de producción externa como los de Planeta Audio.', 'Permite la lectura tanto a través de la web como mediante una app, que permite la lectura sin conexión (sin gastar datos) . Entre las distintas formas de suscripción destaca Stortytel Unlimited, Actualmente ofrece audios libros en varios idiomas, entre ellos español, y su catálogo está en continuo crecimiento.', 'Más recientemente, ha aparecido Google Audiolibros Google Audiobook como una alternativa a Audible, permitirá descargar sus audiolibros comprados como archivos libres de DRM.', '']\n",
      "Processing next page...\n",
      "['', 'EDITORES DE AUDIOLIBROS', 'Además de las plataformas, en el mercado español hay que destacar las secciones especializadas en audiolibros de algunos grandes grupos editoriales.', 'https://www.planetadelibros.com/libros-audiolibros', 'En una reciente búsqueda en su catálogo se ha encontrado una oferta de 1025 títulos, entre ellos destacan las novedades editoriales y los best-sellers. La mayoría de ellos narrados por una sola voz.', 'El precio de venta de audiolibro puede resultar poco competitivo respecto a otras opciones de lectura. (ver el ejemplo de Patria mostrado a continuación) Además el precio de venta en algunos casos varía dependiendo de la plataforma utilizada.', '', 'Precio Versión Ebook 8,99euros', '', 'Precio versión bolsillo 13,95 euros', '']\n",
      "Processing next page...\n",
      "['', '', '', 'Precio versión audiolibro en Google Play 14,99 euros', '', 'Precio versión audiolibro en Apple Books 18,99 euros', '', '', '', '']\n",
      "Processing next page...\n",
      "['', 'https://www.penguinrandomhouseaudio.com/', 'La división Penguin AUDIO destaca , especialmente, su colección de Clásicos. Las diferencias de precio son notables en función de la actualidad del libros y su extensión, como se puede ver en los siguientes ejemplos.', '', '', '', '', '']\n",
      "Processing next page...\n"
     ]
    },
    {
     "name": "stdout",
     "output_type": "stream",
     "text": [
      "['', 'EL AUDIOLECTOR', 'Sin entrar en el debate lectura tradicional versus la escucha de un libro, sus diferencias ylas ventajas e inconvenientes de cada una de las modalidades, aquí usamos el término audiolector, recientemente popularizado, para referirnos al usuario de audiolibros.', 'Unos de los principales cambios que ha producido en el consumo de este tipo de obras tiene que ver con la ampliación de su público objetivo . La producción de audiolibros, a menudo, ha sido vista por la industria editorial como orientada a nichos de mercado muy limitados como los ciegos, o discapacitados visuales, analfabetos o personas con dificultades de lectura, ancianos y niños. Pero esto ha cambiado radicalmente, el público al que ahora se enfoca no tiene limitación alguna.', 'Entre las ventajas del uso del audiolibro más frecuentemente destacada está la posibilidad de realizar otra tarea simultáneamente a la audiolectura: pasear, limpiar la casa, viajar, etc. Esta posibilidad se deriva de la movilidad de los dispositivos empleados y se combina con la disponibilidad de la obra en cualquier momento.', 'En este apartado se trata de trazar un perfil del consumidor de audiolibros: los dispositivos que usa, los momentos en que lo hace, el tipo de lecturas preferidas, entre otros aspectos-En primer lugar, es preciso advertir que trazar un perfil del audiolector en español resulta complicado por la falta de datos fiables. La mayoría de los perfiles se refieren a un lector digital más genérico o se basan en estudios parciales. Sin embargo intentaremos hacer una aproximación a las características de este tipo novedoso de lector.', 'Como primer dato significativo, hay que decir que en España es un tipo de lector minoritario. Según el informe de la Federación del Gremio de editores de España.15 , publicado en 2020, solo el 3,0% de la población escucha audiolibros con frecuencia al menos trimestral. Y solo 1,3% lo hacen frecuentemente, al menos una vez a la semana. (Aunque si lo comparamos con el informe anterior de 2018, cuando se comenzó a plantear esta pregunta, vemos que ha producido un incremento de 2,5% a 3%.)', 'Algunos datos como la edad y sexo de los audiolectores españoles son más difíciles de establecer de forma completamente fiable. Por esa razón tomaremos algunos indicadores de estudios 16 sobre algunos de países cercanos, como Reino Unido y Francia, para poder detectar si hay desviaciones o variaciones respecto a sus tendencias', '•', 'La edad: La demografía juvenil es dominante entre los audiolibros usuarios, con el rango como el \"punto dulce\".', '• Existen similitudes en el comportamiento de los usuarios a través de los territorios. • • el ligero predominio de la mujer frente a los usuarios masculinos •', 'La popularidad de Mystery, Thriller y El suspenso como el más dominante de los éneros.', 'las categorías de Ficción y La autoayuda es principalmente femenina , mientras que los usuarios masculinos prefieren Ciencia Ficción y Comedia', '•', '', '15 Federación del Gremio de editores de España.(2020). Hábitos de Lectura y Compra de Libros en España 2019 16 Lee, Linda. (2020).Audiobooks: Taking the World by Storm']\n",
      "Processing next page...\n",
      "['', 'La edad del audiolector: Según los datos parciales de Storytel (que incluyen España y Latinoamérica) se trata principalmente de un lector joven, el 48% tienen menos de 35 años. Lo que coincide con el estudio de Linda Lee que indica como dominante un rango de edad de 18 a 44 años.', 'El sexo de la audiolector: Resulta algo más complicado de establecer categóricamente si son las mujeres o los hombres los mayores consumidores de audiolibros en España. En la radiografía del lector/oyente español de 2018, se da un ligero predominio de la mujer (52% frente a 48%) y coincide con el estudio de Linda Lee, antes mencionado. (Aunque en otro estudios españoles se da la situación inversa.) En cualquier caso, la diferencia porcentual es pequeña y poco relevante.', '', '', 'Fuente: Storytel. 2018', '', '', '', '', '']\n",
      "Processing next page...\n",
      "['', 'HABITOS DE CONSUMO El dispositivo preferido del audiolector es el móvil (Smartphone), con un claro predominio que alcanza el 92% en algunos estudios. Las razones principales para el uso del audiolibro son:', '• Se pueden hacer otras cosas mientras se escucha (Multitarea) • Se pueden escuchar en cualquier lugar (Movilidad) • Les gustan que les lean (Comodidad)', 'Aunque los momentos dedicados a la audiolectura varían en sus porcentajes dependiendo de los estudios los más relevantes son:', '• Mientras se realizan tareas domésticas (cocinar, limpiar, manualidades) • Mientras se hace deporte (paseo, gimnasio…) • En el trayecto de ida y vuelta al trabajo', '', 'Respecto a los contenidos consumidos, estos están directamente relacionados con la oferta. Según datos de 2017, más del 77% de los audiolibros disponibles en español son de ficción, frente al 23% de no ficción', 'Contenidos', '23%', 'Ficción', 'No ficción', '77%', '', '(http://www.dosdoce.com/wp- content/uploads/2017/01/Infografia_EvolucionDelAudiolibroEnEspan%C3%9Eol_def.pdf), En general los géneros relacionados con la novela negra, thriller y misterio son los más escuchados, seguidos de la novela histórica, biografías, y novela romántica. (En total consonancia con el estudio de Lee que indica que el Misterio, el Thriller y el Suspense son el género dominante.', '', '']\n",
      "Processing next page...\n",
      "['', 'Características del audiolibro', 'Duración', 'En 2016 “El 40 % de los audiolibros disponibles a la venta en las principales tiendas tiene una duración de menos de una hora, el 30 % entre 1 y 3 horas y el resto a partir de 3 horas” (Dosdoce.com y Bookwire, 2017)17', 'Gastos de producción.', 'La edición de un audiolibro supone un alto coste de producción. Aunque lógicamente esto depende de la longitud (número de páginas), el estilo de narración (una o varias, voces) y otros factores específicos. Podemos tomar como referencia que “producir un audiolibro profesional cuesta entre 2.000 y 3.000 euros para una novela de 150 a 200 páginas”. Aunque como indica Sellés18, por su parte Bubok cifra el coste de producción de un audiolibro en unos 4.000 euros.y, unos años antes, para una editorial como Planeta, s el coste estaba cifrado en 30.000', 'Como consecuencia para algunas editoriales resulta difícil justificar semejante desembolso, pues la alta inversión hace más difícil obtener beneficios.. Y se explica además las diferencias, vistas anteriormente, entre el precio de un ebook y un audiolibro.', 'Ventajas del audiolibro', 'Aunque muchas veces se considera el audiolibro como un formato opuesto al libro impreso hay que destacar que la relación es complementaria. Tiene algunas ventajas sobre este ya que «escuchar libros incrementa la comprensión lectora en un 76%, mejora el vocabulario y facilita la fluidez oral» o que, en lugar de acabar con la lectura tradicional. la estimula. Como dato: «El 75% de las personas que escuchan habitualmente audiolibros leen más libros en papel o digital que las personas que no utilizan este formato”', '', '', '17 Dosdoce.com y Bookwire. (2017). La evolución del libro electrónico en América Latina y España: Informe 2016 18 Sellés, Victor .(2018). ¿Son los audiolibros una opción rentable?. Disponible en https://victorselles.com/audiolibros-una-opcion-rentable/']\n",
      "Processing next page...\n",
      "['', '', '', '', '', '', 'INFOGRAFÍAS', '']\n",
      "Processing next page...\n",
      "['', '', 'Fuente: Dosdoce.com 2017']\n",
      "Processing next page...\n",
      "['', '', 'FUENTE: STORYTEL. (Los datos son de 2019 y corresponden a unos 400 clientes).', '']\n",
      "Processing next page...\n",
      "['', 'Fuente: Storytel. (A partir de los dato de A']\n",
      "Processing next page...\n",
      "['', '', '', 'FUENTE: VI Informe Bookwire (2020)', '', '', '', '', '']\n"
     ]
    }
   ],
   "source": [
    "# Procesamiento de un documento\n",
    "\n",
    "resultado = []\n",
    "for i,page in enumerate(pages):\n",
    "    \n",
    "    # Nos saltamos los índices\n",
    "    # ToDo: Permitir al usuario elegir que página saltarse\n",
    "    if i == 1:\n",
    "        continue\n",
    "    \n",
    "    tuplas[i] = []\n",
    "    print('Processing next page...')\n",
    "    interpreter.process_page(page)\n",
    "    layout = device.get_result()\n",
    "    for lobj in layout:\n",
    "        if isinstance(lobj, LTTextBox):\n",
    "            x, y, text = lobj.bbox[0], lobj.bbox[3], lobj.get_text()\n",
    "\n",
    "            if y > 70:\n",
    "                text = re.sub('_{2,}.+(?:\\n+.+)+','',text)\n",
    "                tuplas[i].append((y, text))\n",
    "                #print('At %r is text: %s' % ((x, y), text))\n",
    "                #print(text)\n",
    "                \n",
    "    prueba = []\n",
    "    for a in tuplas[i]:\n",
    "        prueba.append(a)\n",
    "    prueba.sort(key=lambda y: ( -y[0]))\n",
    "    \n",
    "    pagina = []\n",
    "    for a in prueba:\n",
    "        \n",
    "        pagina.append(' '.join(a[1].split()))\n",
    "    print(pagina)\n",
    "    resultado.append(pagina)    \n",
    "    "
   ]
  },
  {
   "cell_type": "code",
   "execution_count": 43,
   "id": "f0a27cc9",
   "metadata": {},
   "outputs": [],
   "source": [
    "# Post-procesado \n",
    "no_blanks = []\n",
    "for pagina in resultado:\n",
    "    for parrafo in pagina:\n",
    "        if len(parrafo) >1:\n",
    "            clean = re.sub('•','',parrafo).strip()\n",
    "            no_blanks.append(clean)"
   ]
  },
  {
   "cell_type": "code",
   "execution_count": 46,
   "id": "dda1024d",
   "metadata": {},
   "outputs": [
    {
     "data": {
      "text/plain": [
       "['UNIDAD 2: SEGUNDA PARTE',\n",
       " 'EL AUDIOLIBRO',\n",
       " 'INTRODUCCIÓN En los últimos años, los audiolibros han irrumpido con fuerza en el sector editorial. Este hecho ha desencadenado la necesidad de estudios profundo sobre el tema. Aunque en apariencia son una gran novedad, los audiolibros no son un producto completamente nuevo sino el resultado de la evolución de una serie de prácticas y soportes con un larga tradición histórica.',\n",
       " 'En este tema, primero, analizaremos sus orígenes y evolución con el objetivo de lograr una mayor delimitación del término. Una parte importante del interés del “fenómeno audiolibro” radica en el gran crecimiento experimentado en su uso y ventas y su impacto económico para la industria editorial. Pero, por otra parte, ha dado lugar a lo que algunos autores denominan “nueva oralidad” (u oralidad digital) y la aparición de un nuevo tipo de lector: el audiolector. En este aspecto, eldebate',\n",
       " 'CONCEPTO. Historia y evolución El origen de los audiolibros se remonta a los “libros parlantes” creados por el Instituto Real Nacional para Ciegos (RNIB) del Reino Unido, hacia 1920, orientados a los discapacitados visuales (Cordón García,2018)1. En el mismo sentido, haciendo referencia a contenidos y soportes Vázquez2 indica que los primeros prototipos de audiolibros fueron creados en “los años 30, en el Reino Unido con historias de Agatha Christie y Joseph Conrad, en discos de 25 minutos aproximadamente”',\n",
       " 'Mujer oyendo un “talking book” en torno a 1939',\n",
       " '1 Cordón García, J. A. (2018). Leer escuchando: Reflexiones en torno a los audiolibros como sector emergente. Anuario ThinkEPI, 12(1), 170-182. 2 Vázquez, José Antonio et al.(2017). Infografía: Evolución de los audiolibros en español. Disponible en https://www.dosdoce.com/2017/01/18/infografia-evolucion-los-audiolibros-espanol/',\n",
       " 'Sin embargo, el origen de las grabaciones de sonido y, más concretamente, de la voz humana, son todavía más antiguos. Podríamos remontarnos a la invención del gramófono, basado en los trabajos de Edison y patentado por Emile Berliner en 1887. Sin querer hacer una historia pormenorizada de la evolución del registro del sonido y sus distintos soportes y dispositivos reproductores, sí que es importante destacar algunos hitos tecnológicos que se han producido en dos períodos: 1945 a 1975 (era magnética) y 1975 a 2020 (era digital) y que ayudan a comprender la situación actual.',\n",
       " 'LA CINTA DE CASETE',\n",
       " 'Casete compacto Phillips (1962-1964)',\n",
       " 'Como una evolución de la cinta magnetofónica de bobinas prexistente surge el casete o casete compacto. Este soporte comenzó ser comercializado por la compañía Philips, entre 1962 y 1964, y supuso un gran avance por su pequeño tamaño y coste. (llegando en 1969 Inicialmente ofrecían capacidad de almacenamiento de 60 minutos (30 minutos por cada cara). de Paralelamente, los dispositivos reproductores también se fueron popularizando. Posteriormente, en 1979, la aparición de Walkman supondría la cumbre de los reproductores de casete de tamaño reducido y realmente portátil. Todas las tecnologías de audio anteriores eran comparativamente inadecuadas para el mercado general, ya que requerían enormes pilas de bobinas de cinta o discos de grabación para transportar incluso una sola novela de gran formato. Así como equipos grandes y costosos para su reproducción.',\n",
       " 'los primeros',\n",
       " 'libros en casete).',\n",
       " 'También la disponibilidad de reproductores de casete en los vehículos supuso un gran impulso. Whitten (2002)3 llega a afirmar que “ La industria de los audiolibros nació en el tráfico. Es decir, la idea de grabar libros de larga duración que pudieran ser escuchados mientras se viaja al trabajo fue engendrada por Duvall Hecht en 1973 por su propio deseo de escuchar libros durante su viaje diario a California. Para 1977 Hecht había establecido la primera empresa comercial, Books on Tape, para alquilar libros grabados a los consumidores” 3 Whitten, R. (2002). Growth of the audio publishing industry. Publishing research quarterly, 18(3), 3-10',\n",
       " 'En este mismo sentido, Rubbery (2011)4 dice “La facilidad de uso de las cintas de audio las estableció rápidamente como el medio preferido por quienes escuchan literatura grabada en automóviles con reproductor de casetes incorporado y en dispositivos portátiles de escucha como el Walkman”',\n",
       " 'Reproductor Walkman de Sony (1979)',\n",
       " 'CD (COMPACT DISC) A partir de 1980, ya en la era del sonido digital, aparece el CD (compact disc) y se comienzan a emplear como soporte de los audiolibros. Este soporte tenía a su favor la alta resistencia, su tamaño y la gran capacidad de almacenamiento. Posteriormente, en 1984, aparece, además, un reproductor portátil; conocido como discman. Aunque se han usado como soporte para audiolibros durante algún tiempo, su uso actual es prácticamente nulo. El fracaso de la editorial Salamandra cuando, en 2003, publicó Harry Potter en ocho CDs, sería un claro ejemplo. EL FORMATO MP3 Es el formato de audio más comúnmente utilizado para sonido tanto para su almacenamiento y reproducción en ordenadores como en reproductores de audio portátil. Aunque su creación es anterior, en 1992 la ISO declaró al MP3 como un estándar de compresión de audio. Técnicamente se trata de un formato de compresión de audio digital que usa un algoritmo con pérdida (elimina ciertas frecuencias) para conseguir un tamaño de archivo menor, con uno niveles aceptables de calidad. Esto facilita enormemente su almacenamiento y distribución. Actualmente, es el principal formato de los audiolibros, aunque no el único.',\n",
       " '4 Rubery, M. (2011), Audiobooks, Literature, and Sound Studies, New York: Routledge.',\n",
       " 'TELEFONÓ MÓVIL/ SMARTPHONE La aparición del teléfono móvil y su posterior transformación en teléfono inteligente (smartphone) es quizá el principal avance tecnológico relacionado con la actual difusión del audiolibro. Se trata de es un dispositivo móvil que combina las funciones de un teléfono móvil y de un ordenador de bolsillo. Los actuales teléfonos inteligentes tienen sus orígenes en de la década de los 2000 y se popularizaron muy rápidamente en el transcurso de la década siguiente. Entre sus características más destacables: la pantalla táctil , el tamaño de esta (más grande que los teléfonos anteriores), la función multitarea, las funciones multimedia (cámara y reproductor de audio/vídeo),el acceso a Internet, la capacidad de leer documentos en variedad de formatos. En la actualidad son uno de los dispositivos de lectura digital preferido por los usuarios. Según algunos estudios el 92% de las personas que escuchan audiolibros lo hacen a través de dispositivos móviles5. SERVICIOS EN STREAMING',\n",
       " 'Streaming es una la tecnología que permite transmitir archivos de audio y vídeo en un flujo continuo a través de Internet, ya sea con una conexión alámbrica o inalámbrica. En algunos casos además, se permite su descarga. Los contenidos a transmitir son muy variados: películas, programas de TV , videos musicales o música. La popularización de esta tecnología ha venido de la mano de la amplia extensión del acceso a Internet y la mejora de la velocidad de transmisión (ancho de banda).',\n",
       " 'Actualmente, una serie de plataformas que ofrecen este tipo de servicios, por ejemplo Netflix, Spotify o Amazon, se han convertido en una forma muy popular de consumo de contenidos culturales En algunos casos ofrecen además servicios especializados en audiolibros como Audible (de Amazon) DESARROLLO DE APPS',\n",
       " 'Paralelamente estas plataformas han desarrollado sus propias apps. La app o aplicación móvil es un programa informático diseñado para ejecutarse en teléfonos inteligentes, tabletas y otros dispositivos móviles. La app permite al usuario realizar de forma fácil un conjunto de tareas como la lectura en línea, la descarga o la consulta sin acceso a Internet.',\n",
       " 'Por ejemplo, en el caso de Audible, la app permite la navegación por capítulos, añadir marcadores propios, cambiar la velocidad de narración o puede trabajar en segundo plano, leyendo y descargando al mismo tiempo',\n",
       " '5 Sellés, Victor .(2018). ¿Son los audiolibros una opción rentable?. Disponible en https://victorselles.com/audiolibros-una-opcion-rentable/',\n",
       " 'A MODO DE RESUMEN:',\n",
       " 'Los editores de audiolibros siempre han estado a la vanguardia de la transformación tecnológica de la industria del libro. Desde las cintas de bobinas y los discos de larga duración (Lp) hasta las casetes, discos compactos, MP3 y servicios de streaming, abundan los ejemplos de innovacion.',\n",
       " 'Aunque durante 20 años, en la edición de audiolibros, convivieron tecnologías muy diversas como, por ejemplo, vinilos, casetes, CD, mp3, etc. ,actualmente, han sido desplazadas por los servicios en streaming, que combinados con la popularización de los smartphones, han descubierto la verdadera potencialidad de un mercado que hasta la segunda mitad del siglo XXI estaba restringido a círculos muy especializados (Cordón García, 2018).',\n",
       " '¿Qué es un audiolibro? En líneas generales, la mayor parte de los intentos de delimitar y explicar el término audiolibro son coincidentes. Un audiolibro en su definición más amplia es “una grabación de un texto, típicamente un libro existente, leído por el autor, un actor profesional, una celebridad o un aficionado” Algunas grabaciones también incluyen música, múltiples actores y efectos de sonidos más sofisticados que los acercan al género del drama radiofónico” (Colbjørnsen, 2015) 6.',\n",
       " 'De forma casi idéntica, García-Rodríguez y Gómez-Díaz (2019)7 definen el audiolibro como “es un grabación de un libro leído en voz alta, por una sola persona o dramatizados con varias voces y la incorporación de música y efectos sonoros”',\n",
       " 'Vallorani (2011)8 explica que el audiolibro consta de una grabación audio en casetes, CD, CD-MP3, incluso es descargable por Internet, e incluye la versión integral o reducida en voz alta de libros leídos por narradores profesionales, actores, escritores y poetas, a veces acompañados de música u otros efectos sonoros',\n",
       " 'De esta definiciones podemos extraer algunas ideas útiles:',\n",
       " 'La grabación del texto o libro se corresponde a una obra prexistente. Es decir, el audiolibro rara vez existe de forma independiente, sino que representa la adaptación sonora de una obra que existe en formato impreso. En este sentido, la versión sonora del texto puede ser una versión completa o una versión resumida.',\n",
       " 'La idea de audiolibro es independiente de su soporte. Una misma grabación sonora puede existir en varios soportes, como CD y como un archivo digital, por ejemplo. Además un mismo archivo digital puede estar disponible en distintos formatos: mp3 , ACC o WMA, por ejemplo.',\n",
       " 'La diferencia más destacable entre los audiolibros viene del estilo de lectura aplicado. Puede ser una voz individual (lector - narrador) o múltiples voces. Además de la existencia o no de música y efectos de sonido añadidos.',\n",
       " '6 Colbjørnsen, T. (2015). The accidental avant-garde: audiobook technologies and publishing strategies from cassette tapes to online streaming services. Northern Lights: Film & Media Studies Yearbook, 13(1) 83-103',\n",
       " '7 García-Rodríguez, A., & Gómez-Díaz, R. (2019). ¿Leer con los oídos?: Audiolibros y literatura infantil y juvenil. Anuario ThinkEPI, 13 8 Vallorani, C. (2011). La oralidad tecnológica-digital: Estudio pragmático-comunicativo sobre la oralidad en el audiolibro Disponible en http://rua.ua.es/dspace/handle/10045/19656',\n",
       " 'En este sentido según Cahill (2017)9 los estilos de lectura se puede agrupar en cuatro categorías generales: con voz completa (fully voiced), con voz parcial (partially voiced), sin voz (unvoiced) y con múltiples voces (multivoiced). Cada uno de estos estilos se ajusta mejor al audiolibro dependiendo del tipo de obra. La primera, y más común, es la lectura con voz completa. En este caso, se usan voces distintas para cada personaje de forma muy parecida a los actores de una obra de teatro. Por el contrario, la producción con voz parcial se centra en la individualización de uno o más personajes, permitiendo que el resto (a menudo incluyendo al narrador) se mantenga en un segundo plano. Las lecturas “sin voz” no son silenciosas (como pudiera parecer por su nombre), sino lecturas directas del texto a una sola voz, sin recurrir a ningún tipo de juego de roles vocal. La última categoría, multivoiced, también implica un elenco de lectores individuales, cada uno responsable de un personaje. Aunque puede parecer igual al estilo de voz completa, la dinámica de la integración de múltiples lectores cambia considerablemente el panorama del audio, pudiendo sonar mecánico mediante la integración de uno o dos narradores que va indicando ” él dijo, ella dijo, etc…” para dar paso a las voces individuales.',\n",
       " 'En mi opinión personal, en todas estas aproximaciones a la idea del audiolibro se ha obviado la posibilidad de generar las grabaciones sonoras a partir de programas text to speech. Aunque con los desarrollos actuales las voces pueden sonar mecánicas o robotizadas, incapaces de competir con la voz humana en cuanto a la transmisión de emociones, previsiblemente mejorarán en años próximos y que pueden constituir una alternativa muy rentable a la producción de los audiolibros.',\n",
       " '9 CAHILL. Maria and MOORE, Jennifer.(2017). A Sound History: Audiobooks Are Music to Children’s Ears',\n",
       " 'INDUSTRIA DEL AUDIOLIBRO. Mercado español e iberoamericano',\n",
       " 'A nivel global, uno de los indicadores más evidentes del mercado del audiolibro es el crecimiento del número de títulos publicados. Según una encuesta de ventas de 2018 de los miembros de la Asociación de Editores de Audio de EE.UU., la producción de títulos entre 2014 y 2018 casi se duplicó. Por otra parte, en cuanto a los mercados anglosajones, un informe señala que las principales editoriales les han confirmado que 1 de cada 10 libros vendidos es en formato audio.',\n",
       " 'En concreto, HarperCollins y Hachette ya declaran que los audiolibros les suponen el 25% y 21%, respectivamente (incluyendo los ebooks en Hachette) de todos sus ingresos digitales. (Según Hurtado (2018)10: “Los audiolibros merecen una especial mención por el crecimiento que han tenido en el mercado estadounidense y las apuestas que editoriales de Iberoamérica están haciendo en la producción de contenidos en este nuevo formato…….Para el caso del mercado estadounidense de 7.237 títulos en este formato que había en el año 2011, el año 2015 cerró con 35.574, lo que corresponde a un incremento de casi el 400)',\n",
       " 'En el caso del audiolibro en español, en España y Latinoamérica, aunque hay un crecimiento importante no alcanza las tasas de otros mercados. La creciente apuesta de autores, agentes y editoriales por los audiolibros, así como la irrupción en España y América Latina de plataformas especializadas en la comercialización de audiolibros como Audible, Storytel, Kobo, Google, entre otras, también coincide con la tendencia en otros mercados',\n",
       " 'Debido a que hay pocos informes o estudios que permitan el análisis de la evolución del mercado del audiolibro de forma separada del ebook, usaremos, de forma preferente, para la obtención de datos relativos al mercado español y latinoamericano, los estudios de Bookwire (https://www.bookwire.de/es/) en colaboración con Dosdoce.com (https://www.dosdoce.com/) ha realizado en los últimos años.',\n",
       " 'A partir de estos trabajos extraemos una serie de características que nos permiten obtener una imagen bastante completa de la situación actual, pero que al tratarse de un mercado en plena evolución debe entenderse como “temporal”.',\n",
       " 'Se ha producido un considerable incremento de las ventas.',\n",
       " 'En 2018 la estimación del volumen de negocio del mercado de audiolibros en español se situaba entre tres y cinco millones. Hoy la mayoría de las editoriales que comercializan audiolibros estiman que en 2019 las ventas de audiolibros generaron entre cinco y siete millones de euros. 11Todo indica que en 2020 experimentaremos un crecimiento de entre un 20 y 30% en',\n",
       " '10 Hurtado. Jaime Iván (2018). Tendencias de las edición digital 2017-2018. Agosto 2018 Disponible en http://jaimeivanhurtado.com/tendencias-de-la-edicion-digital-2017-2018/ 11 Bookwire.(2020), Evolución del mercado digital (ebooks y audiolibros) en España y América Latina:Informe Bookwire 2020. Disponible en https://www.dosdoce.com/wp- content/uploads/2020/04/INFORME-BOOKWIRE-2020.pdf',\n",
       " 'las ventas de audiolibros, y alcanzaremos los diez millones de euros en los mercados en español12',\n",
       " 'Evolución del volumen de negocio audiolibros',\n",
       " 'Fuente: Informe Bookwire 2020',\n",
       " 'Se ha producido un considerable incremento en la oferta de contenidos en español .',\n",
       " '“Hay un “crecimiento de la oferta de títulos en este nuevo formato en un 33% en 2017 en comparación con 2016. La oferta de audiolibros en español supera ya los 4.000 títulos, frente al apenas un millar de hace sólo unos años” ”(Bookwire y Dosdoce.com, 2018)',\n",
       " 'En el siguiente gráfico se pueden ver las previsiones para el año 2020 (14.000 títulos) y la evolución de los últimos cuatro años',\n",
       " 'Evolución títulos (audiolibros) publicados',\n",
       " '12 Bookwire.(2020), Evolución del mercado digital (ebooks y audiolibros) en España y América Latina:Informe Bookwire 2020. Disponible en',\n",
       " 'Fuente: Informe Bookwire 2020',\n",
       " 'Desde el punto de vista de los contenidos debemos indicar que “más del 77% son de ficción, frente al 23% de no ficción (Riaza, 2016)13 . Respecto a los géneros más escuchados cabe destacar “aquellos relacionados con el thriller y misterio, seguidos de la novela histórica, biografías y novela romántica”',\n",
       " 'Se ha producido una transformación en los canales de distribución y venta',\n",
       " '“El principal canal de ventas de audiolibros son las plataformas de suscripción representando el 83% de las ventas. Las editoriales que comercializan hoy en día audiolibros indican que las plataformas de suscripción como Storytel, Audible, Scribd, Kobo, entre otras, se han convertido en el principal canal de venta de audiolibros en español. En segundo lugar, sitúan a los canales de venta unitaria como Google Play o Apple Books, y en tercer lugar la venta a bibliotecas (Bookwire & Dosdoce, 2020).',\n",
       " 'En este contexto, las ventas de audiolibros en plataformas de subscripción de tarifa plana (flat-subscription) han crecido mucho, mientas que las plataformas de subscripción que solo permiten el consumo de un audiolibro al mes (conocidas como subscripción por crédito) están perdiendo cuota de mercado. Respecto a las ventas unitarias han bajado. El descenso se debe a varios motivos. Por un lado, el alto precio de venta al público de los audiolibros a la carta (venta unitaria), que gira alrededor de los 20 euros para las novedades, y por otro lado, la aparición de diversas plataformas de subscripción. Sin embargo el comportamiento de algunos grandes productores, como Penguin Random House, de abandonar la venta a través de la plataformas a favor de la venta unitaria, podría indicar que esta tendencia puede cambiar en el futuro14 Respecto a las ventas a bibliotecas en el mercado español todavía no alcanzan la situación de otros mercados, aunque son un canal al alza.',\n",
       " '13 Riaza, Maribel et al. (2016) El creciente mercado de audiolibros en español. Disponible en: http://www.dosdoce.com/2016/11/07/creciente-mercado-audiolibros-espanol/ 14 Ruiz Mantilla, Jesús (2020).Órdago a las plataformas de audiolibros. En: El País 9 febrero 2020',\n",
       " 'DISTRIBUCIÓN DEL MERCADO El principal mercado de audiolibros en español, en 2019, sigue siendo Estados Unidos, seguido de México , en tercer lugar España y, por último, el resto de países de América Latina (Bookwire & Dosdoce, 2020).',\n",
       " 'Distribución del mercado del audiolibro en español',\n",
       " 'PLATAFORMAS ESPECIALIZADAS',\n",
       " 'Cada día hay más plataformas especializadas en la comercialización de audiolibros como Audible, Storytel, BookChoice, Kobo, Google, entre otras.',\n",
       " 'https://www.audible.com/',\n",
       " 'Audible, fundada hace 22 años, fue adquirida por Amazon en 2008. Es el mayor proveedor del mundo de audio libros digitales descargables con aproximadamente 200.000 títulos según su información. de los cuales uno 90 estarían en español. Los audiolibros se pueden comprar individualmente o como parte de diferentes tipos de suscripciones. Como parte de un modelo de negocio cerrado es un requisito previo contar con una cuenta de Amazon para acceder a la comprar libros en cualquier caso',\n",
       " 'La app de Audible permite el acceso a títulos adquiridos en cualquier momento, como un estante para libros digitales y os títulos se pueden reproducir a través de teléfonos inteligentes Android, teléfonos con Windows, iPhones o tabletas y también con los altavoces de Amazon.',\n",
       " 'https://www.storytel.com/es/es/',\n",
       " 'Storytel, es una empresa europea fundada en 2005, en Suecia. Ofrece un servicio basado en suscripción de audiolibros (streaming de audiolibros) y libros electrónicos. Está actualmente disponible en 9 países, entre ellos España , aunque su mercado principal se centra en los países del norte de Europa. Storytel pretende convertirse en la principal plataforma de audiolibros en español. Comercializa tanto audiolibros de producción propia, con grabaciones en estudios profesionales con actores de doblaje, como audiolibros de producción externa como los de Planeta Audio.',\n",
       " 'Permite la lectura tanto a través de la web como mediante una app, que permite la lectura sin conexión (sin gastar datos) . Entre las distintas formas de suscripción destaca Stortytel Unlimited, Actualmente ofrece audios libros en varios idiomas, entre ellos español, y su catálogo está en continuo crecimiento.',\n",
       " 'Más recientemente, ha aparecido Google Audiolibros Google Audiobook como una alternativa a Audible, permitirá descargar sus audiolibros comprados como archivos libres de DRM.',\n",
       " 'EDITORES DE AUDIOLIBROS',\n",
       " 'Además de las plataformas, en el mercado español hay que destacar las secciones especializadas en audiolibros de algunos grandes grupos editoriales.',\n",
       " 'https://www.planetadelibros.com/libros-audiolibros',\n",
       " 'En una reciente búsqueda en su catálogo se ha encontrado una oferta de 1025 títulos, entre ellos destacan las novedades editoriales y los best-sellers. La mayoría de ellos narrados por una sola voz.',\n",
       " 'El precio de venta de audiolibro puede resultar poco competitivo respecto a otras opciones de lectura. (ver el ejemplo de Patria mostrado a continuación) Además el precio de venta en algunos casos varía dependiendo de la plataforma utilizada.',\n",
       " 'Precio Versión Ebook 8,99euros',\n",
       " 'Precio versión bolsillo 13,95 euros',\n",
       " 'Precio versión audiolibro en Google Play 14,99 euros',\n",
       " 'Precio versión audiolibro en Apple Books 18,99 euros',\n",
       " 'https://www.penguinrandomhouseaudio.com/',\n",
       " 'La división Penguin AUDIO destaca , especialmente, su colección de Clásicos. Las diferencias de precio son notables en función de la actualidad del libros y su extensión, como se puede ver en los siguientes ejemplos.',\n",
       " 'EL AUDIOLECTOR',\n",
       " 'Sin entrar en el debate lectura tradicional versus la escucha de un libro, sus diferencias ylas ventajas e inconvenientes de cada una de las modalidades, aquí usamos el término audiolector, recientemente popularizado, para referirnos al usuario de audiolibros.',\n",
       " 'Unos de los principales cambios que ha producido en el consumo de este tipo de obras tiene que ver con la ampliación de su público objetivo . La producción de audiolibros, a menudo, ha sido vista por la industria editorial como orientada a nichos de mercado muy limitados como los ciegos, o discapacitados visuales, analfabetos o personas con dificultades de lectura, ancianos y niños. Pero esto ha cambiado radicalmente, el público al que ahora se enfoca no tiene limitación alguna.',\n",
       " 'Entre las ventajas del uso del audiolibro más frecuentemente destacada está la posibilidad de realizar otra tarea simultáneamente a la audiolectura: pasear, limpiar la casa, viajar, etc. Esta posibilidad se deriva de la movilidad de los dispositivos empleados y se combina con la disponibilidad de la obra en cualquier momento.',\n",
       " 'En este apartado se trata de trazar un perfil del consumidor de audiolibros: los dispositivos que usa, los momentos en que lo hace, el tipo de lecturas preferidas, entre otros aspectos-En primer lugar, es preciso advertir que trazar un perfil del audiolector en español resulta complicado por la falta de datos fiables. La mayoría de los perfiles se refieren a un lector digital más genérico o se basan en estudios parciales. Sin embargo intentaremos hacer una aproximación a las características de este tipo novedoso de lector.',\n",
       " 'Como primer dato significativo, hay que decir que en España es un tipo de lector minoritario. Según el informe de la Federación del Gremio de editores de España.15 , publicado en 2020, solo el 3,0% de la población escucha audiolibros con frecuencia al menos trimestral. Y solo 1,3% lo hacen frecuentemente, al menos una vez a la semana. (Aunque si lo comparamos con el informe anterior de 2018, cuando se comenzó a plantear esta pregunta, vemos que ha producido un incremento de 2,5% a 3%.)',\n",
       " 'Algunos datos como la edad y sexo de los audiolectores españoles son más difíciles de establecer de forma completamente fiable. Por esa razón tomaremos algunos indicadores de estudios 16 sobre algunos de países cercanos, como Reino Unido y Francia, para poder detectar si hay desviaciones o variaciones respecto a sus tendencias',\n",
       " 'La edad: La demografía juvenil es dominante entre los audiolibros usuarios, con el rango como el \"punto dulce\".',\n",
       " 'Existen similitudes en el comportamiento de los usuarios a través de los territorios.   el ligero predominio de la mujer frente a los usuarios masculinos',\n",
       " 'La popularidad de Mystery, Thriller y El suspenso como el más dominante de los éneros.',\n",
       " 'las categorías de Ficción y La autoayuda es principalmente femenina , mientras que los usuarios masculinos prefieren Ciencia Ficción y Comedia',\n",
       " '15 Federación del Gremio de editores de España.(2020). Hábitos de Lectura y Compra de Libros en España 2019 16 Lee, Linda. (2020).Audiobooks: Taking the World by Storm',\n",
       " 'La edad del audiolector: Según los datos parciales de Storytel (que incluyen España y Latinoamérica) se trata principalmente de un lector joven, el 48% tienen menos de 35 años. Lo que coincide con el estudio de Linda Lee que indica como dominante un rango de edad de 18 a 44 años.',\n",
       " 'El sexo de la audiolector: Resulta algo más complicado de establecer categóricamente si son las mujeres o los hombres los mayores consumidores de audiolibros en España. En la radiografía del lector/oyente español de 2018, se da un ligero predominio de la mujer (52% frente a 48%) y coincide con el estudio de Linda Lee, antes mencionado. (Aunque en otro estudios españoles se da la situación inversa.) En cualquier caso, la diferencia porcentual es pequeña y poco relevante.',\n",
       " 'Fuente: Storytel. 2018',\n",
       " 'HABITOS DE CONSUMO El dispositivo preferido del audiolector es el móvil (Smartphone), con un claro predominio que alcanza el 92% en algunos estudios. Las razones principales para el uso del audiolibro son:',\n",
       " 'Se pueden hacer otras cosas mientras se escucha (Multitarea)  Se pueden escuchar en cualquier lugar (Movilidad)  Les gustan que les lean (Comodidad)',\n",
       " 'Aunque los momentos dedicados a la audiolectura varían en sus porcentajes dependiendo de los estudios los más relevantes son:',\n",
       " 'Mientras se realizan tareas domésticas (cocinar, limpiar, manualidades)  Mientras se hace deporte (paseo, gimnasio…)  En el trayecto de ida y vuelta al trabajo',\n",
       " 'Respecto a los contenidos consumidos, estos están directamente relacionados con la oferta. Según datos de 2017, más del 77% de los audiolibros disponibles en español son de ficción, frente al 23% de no ficción',\n",
       " 'Contenidos',\n",
       " '23%',\n",
       " 'Ficción',\n",
       " 'No ficción',\n",
       " '77%',\n",
       " '(http://www.dosdoce.com/wp- content/uploads/2017/01/Infografia_EvolucionDelAudiolibroEnEspan%C3%9Eol_def.pdf), En general los géneros relacionados con la novela negra, thriller y misterio son los más escuchados, seguidos de la novela histórica, biografías, y novela romántica. (En total consonancia con el estudio de Lee que indica que el Misterio, el Thriller y el Suspense son el género dominante.',\n",
       " 'Características del audiolibro',\n",
       " 'Duración',\n",
       " 'En 2016 “El 40 % de los audiolibros disponibles a la venta en las principales tiendas tiene una duración de menos de una hora, el 30 % entre 1 y 3 horas y el resto a partir de 3 horas” (Dosdoce.com y Bookwire, 2017)17',\n",
       " 'Gastos de producción.',\n",
       " 'La edición de un audiolibro supone un alto coste de producción. Aunque lógicamente esto depende de la longitud (número de páginas), el estilo de narración (una o varias, voces) y otros factores específicos. Podemos tomar como referencia que “producir un audiolibro profesional cuesta entre 2.000 y 3.000 euros para una novela de 150 a 200 páginas”. Aunque como indica Sellés18, por su parte Bubok cifra el coste de producción de un audiolibro en unos 4.000 euros.y, unos años antes, para una editorial como Planeta, s el coste estaba cifrado en 30.000',\n",
       " 'Como consecuencia para algunas editoriales resulta difícil justificar semejante desembolso, pues la alta inversión hace más difícil obtener beneficios.. Y se explica además las diferencias, vistas anteriormente, entre el precio de un ebook y un audiolibro.',\n",
       " 'Ventajas del audiolibro',\n",
       " 'Aunque muchas veces se considera el audiolibro como un formato opuesto al libro impreso hay que destacar que la relación es complementaria. Tiene algunas ventajas sobre este ya que «escuchar libros incrementa la comprensión lectora en un 76%, mejora el vocabulario y facilita la fluidez oral» o que, en lugar de acabar con la lectura tradicional. la estimula. Como dato: «El 75% de las personas que escuchan habitualmente audiolibros leen más libros en papel o digital que las personas que no utilizan este formato”',\n",
       " '17 Dosdoce.com y Bookwire. (2017). La evolución del libro electrónico en América Latina y España: Informe 2016 18 Sellés, Victor .(2018). ¿Son los audiolibros una opción rentable?. Disponible en https://victorselles.com/audiolibros-una-opcion-rentable/',\n",
       " 'INFOGRAFÍAS',\n",
       " 'Fuente: Dosdoce.com 2017',\n",
       " 'FUENTE: STORYTEL. (Los datos son de 2019 y corresponden a unos 400 clientes).',\n",
       " 'Fuente: Storytel. (A partir de los dato de A',\n",
       " 'FUENTE: VI Informe Bookwire (2020)']"
      ]
     },
     "execution_count": 46,
     "metadata": {},
     "output_type": "execute_result"
    }
   ],
   "source": [
    "no_blanks"
   ]
  },
  {
   "cell_type": "code",
   "execution_count": 54,
   "id": "a15cce62",
   "metadata": {},
   "outputs": [
    {
     "data": {
      "text/plain": [
       "124"
      ]
     },
     "execution_count": 54,
     "metadata": {},
     "output_type": "execute_result"
    }
   ],
   "source": [
    "len(no_blanks)"
   ]
  },
  {
   "cell_type": "code",
   "execution_count": 48,
   "id": "cbc38561",
   "metadata": {},
   "outputs": [],
   "source": [
    "frasecitas = []\n",
    "parrafo_correspondiente = []\n",
    "for p in no_blanks:\n",
    "    \n",
    "        for b in a.split('\\n'):\n",
    "            if len(b.strip().split()) > 0:\n",
    "                frasecitas.append(b.strip())\n",
    "                parrafo_correspondiente.append(a.strip())\n",
    "    else:\n",
    "        frasecitas.append(a.strip())\n",
    "        parrafo_correspondiente.append(a.strip())"
   ]
  },
  {
   "cell_type": "code",
   "execution_count": 51,
   "id": "de13581b",
   "metadata": {},
   "outputs": [
    {
     "data": {
      "text/plain": [
       "124"
      ]
     },
     "execution_count": 51,
     "metadata": {},
     "output_type": "execute_result"
    }
   ],
   "source": [
    "len(frasecitas)"
   ]
  },
  {
   "cell_type": "code",
   "execution_count": 52,
   "id": "52e6c2ba",
   "metadata": {},
   "outputs": [
    {
     "data": {
      "text/plain": [
       "124"
      ]
     },
     "execution_count": 52,
     "metadata": {},
     "output_type": "execute_result"
    }
   ],
   "source": [
    "len(parrafo_correspondiente)"
   ]
  },
  {
   "cell_type": "code",
   "execution_count": null,
   "id": "d3604a25",
   "metadata": {},
   "outputs": [],
   "source": [
    "js = {}\n",
    "js['name'] = 'OIM'\n",
    "js['subname'] = 'Introducción'\n",
    "js['paragraph'] = parrafo_correspondiente\n",
    "js['content'] = frasecitas"
   ]
  },
  {
   "cell_type": "code",
   "execution_count": null,
   "id": "8b4f08c5",
   "metadata": {},
   "outputs": [],
   "source": [
    "with open(f\"json\\\\{js['name']}_{js['subname']}.json\", 'w', encoding='UTF-8') as f:\n",
    "    json.dump(js, f, ensure_ascii=False)"
   ]
  }
 ],
 "metadata": {
  "kernelspec": {
   "display_name": "Python 3",
   "language": "python",
   "name": "python3"
  },
  "language_info": {
   "codemirror_mode": {
    "name": "ipython",
    "version": 3
   },
   "file_extension": ".py",
   "mimetype": "text/x-python",
   "name": "python",
   "nbconvert_exporter": "python",
   "pygments_lexer": "ipython3",
   "version": "3.8.10"
  }
 },
 "nbformat": 4,
 "nbformat_minor": 5
}
