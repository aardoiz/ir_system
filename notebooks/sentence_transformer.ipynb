{
 "cells": [
  {
   "cell_type": "code",
   "execution_count": 4,
   "id": "sunset-block",
   "metadata": {},
   "outputs": [],
   "source": [
    "import pickle\n",
    "import torch\n",
    "from torch import device, cuda\n",
    "from environs import Env\n",
    "from sentence_transformers import SentenceTransformer, util\n",
    "from fastapi import FastAPI, Form, Request\n",
    "from fastapi.responses import JSONResponse\n",
    "from fastapi.encoders import jsonable_encoder\n",
    "from fastapi.middleware.cors import CORSMiddleware\n",
    "from fastapi.responses import JSONResponse\n",
    "from pydantic import BaseModel\n",
    "from typing import Optional, List\n",
    "import uvicorn"
   ]
  },
  {
   "cell_type": "code",
   "execution_count": 5,
   "id": "promotional-advertiser",
   "metadata": {},
   "outputs": [],
   "source": [
    "env = Env()\n",
    "env.read_env()\n",
    "\n",
    "embeddings = env.str(\"EMBEDDINGS\", \"pickle\\\\embeddings.pt\")\n",
    "sentences = env.str(\"SENTENCES\", \"pickle\\\\sentences.pkl\")\n",
    "paragraphs = env.str(\"PARAGRAPHS\", \"pickle\\\\paragraphs.pkl\")\n",
    "documents = env.str(\"DOCUMENTS\", \"pickle\\\\documents.pkl\")\n",
    "\n",
    "sentence_transformers_model = env.str(\n",
    "    \"SENTENCE_TRANSFORMERS_MODEL\",\n",
    "    \"eduardofv/stsb-m-mt-es-distiluse-base-multilingual-cased-v1\",\n",
    ")"
   ]
  },
  {
   "cell_type": "code",
   "execution_count": 6,
   "id": "authentic-pursuit",
   "metadata": {},
   "outputs": [],
   "source": [
    "def read_pickle(pickle_file: str, object_type: str):\n",
    "    \"\"\"\n",
    "    Read a pickle file given\n",
    "    \"\"\"\n",
    "    with open(pickle_file, \"rb\") as fich:\n",
    "        if object_type == \"tensor\":\n",
    "            read_file = torch.load(fich, map_location='cpu')\n",
    "        elif object_type == \"list\":\n",
    "            read_file = pickle.load(fich)\n",
    "        else:\n",
    "            raise(\"Error: No available object type\")\n",
    "    return read_file\n"
   ]
  },
  {
   "cell_type": "code",
   "execution_count": 7,
   "id": "traditional-sleep",
   "metadata": {},
   "outputs": [
    {
     "name": "stdout",
     "output_type": "stream",
     "text": [
      "Device selected: cpu\n"
     ]
    }
   ],
   "source": [
    "app = FastAPI()\n",
    "CORS_ORIGINS = [\"*\"]\n",
    "app.add_middleware(\n",
    "    CORSMiddleware,\n",
    "    allow_origins=CORS_ORIGINS,\n",
    "    allow_credentials=True,\n",
    "    allow_methods=[\"*\"],\n",
    "    allow_headers=[\"*\"],\n",
    ")\n",
    "device = device('cuda' if cuda.is_available() else 'cpu')\n",
    "print(f\"Device selected: {device}\")"
   ]
  },
  {
   "cell_type": "code",
   "execution_count": 10,
   "id": "demanding-peeing",
   "metadata": {},
   "outputs": [],
   "source": [
    "all_embedding_from_source = read_pickle(embeddings, \"tensor\")\n",
    "all_sentences_from_source = read_pickle(sentences, \"list\")\n",
    "all_documents_from_source = read_pickle(documents, \"list\")\n",
    "all_paragraphs_from_source = read_pickle(paragraphs, \"list\")"
   ]
  },
  {
   "cell_type": "code",
   "execution_count": 11,
   "id": "wired-theme",
   "metadata": {},
   "outputs": [],
   "source": [
    "model = SentenceTransformer(sentence_transformers_model)"
   ]
  },
  {
   "cell_type": "code",
   "execution_count": 17,
   "id": "improving-delaware",
   "metadata": {},
   "outputs": [],
   "source": [
    "class Search(BaseModel):\n",
    "    query: List[str]\n",
    "    source: str"
   ]
  },
  {
   "cell_type": "code",
   "execution_count": 18,
   "id": "intermediate-salvation",
   "metadata": {},
   "outputs": [],
   "source": [
    "@app.get(\"/\")\n",
    "def root():\n",
    "    return {\"message\": \"Hello\"}"
   ]
  },
  {
   "cell_type": "code",
   "execution_count": 19,
   "id": "moved-conservation",
   "metadata": {},
   "outputs": [],
   "source": [
    "@app.post(\"/search\")\n",
    "def compute_input(search : Search) -> dict:\n",
    "    \"\"\"\n",
    "    - Convert the input query to embedding format.\n",
    "    - Calculates the cosine distance.\n",
    "    - Get the highest scores ordered from highest to lowest.\n",
    "    \"\"\"\n",
    "    input_embeddings = model.encode(search.query, convert_to_tensor=True)\n",
    "    cosine_scores = util.pytorch_cos_sim(input_embeddings, all_embedding_from_source)\n",
    "    best = torch.topk(cosine_scores, 5)\n",
    "    output = []\n",
    "    # best[0]-> Score de los topk resultados\n",
    "    # best[1]-> Índice de los topk resultados (respecto al corpus)\n",
    "    for score, idx in zip(best[0], best[1]):\n",
    "        for j, i in enumerate(idx):  \n",
    "            output.append({\"sentence\":all_sentences_from_source[i], \"score\":round(score[j].item(),4)})\n",
    "            output.append({\"sentence\":all_sentences_from_source[i], \"score\":round(score[j].item(),4), \"document\":all_documents_from_source[i]})\n",
    "    print(output)\n",
    "    return JSONResponse(content = output)"
   ]
  },
  {
   "cell_type": "code",
   "execution_count": 20,
   "id": "digital-characterization",
   "metadata": {},
   "outputs": [
    {
     "ename": "RuntimeError",
     "evalue": "asyncio.run() cannot be called from a running event loop",
     "output_type": "error",
     "traceback": [
      "\u001b[1;31m---------------------------------------------------------------------------\u001b[0m",
      "\u001b[1;31mRuntimeError\u001b[0m                              Traceback (most recent call last)",
      "\u001b[1;32m<ipython-input-20-12a9fe149e92>\u001b[0m in \u001b[0;36m<module>\u001b[1;34m\u001b[0m\n\u001b[1;32m----> 1\u001b[1;33m \u001b[0muvicorn\u001b[0m\u001b[1;33m.\u001b[0m\u001b[0mrun\u001b[0m\u001b[1;33m(\u001b[0m\u001b[0mapp\u001b[0m\u001b[1;33m,\u001b[0m \u001b[0mhost\u001b[0m\u001b[1;33m=\u001b[0m\u001b[1;34m\"0.0.0.0\"\u001b[0m\u001b[1;33m,\u001b[0m \u001b[0mport\u001b[0m\u001b[1;33m=\u001b[0m\u001b[1;36m8000\u001b[0m\u001b[1;33m)\u001b[0m\u001b[1;33m\u001b[0m\u001b[1;33m\u001b[0m\u001b[0m\n\u001b[0m",
      "\u001b[1;32mc:\\users\\biyombooo\\appdata\\local\\programs\\python\\python39\\lib\\site-packages\\uvicorn\\main.py\u001b[0m in \u001b[0;36mrun\u001b[1;34m(app, **kwargs)\u001b[0m\n\u001b[0;32m    450\u001b[0m         \u001b[0mMultiprocess\u001b[0m\u001b[1;33m(\u001b[0m\u001b[0mconfig\u001b[0m\u001b[1;33m,\u001b[0m \u001b[0mtarget\u001b[0m\u001b[1;33m=\u001b[0m\u001b[0mserver\u001b[0m\u001b[1;33m.\u001b[0m\u001b[0mrun\u001b[0m\u001b[1;33m,\u001b[0m \u001b[0msockets\u001b[0m\u001b[1;33m=\u001b[0m\u001b[1;33m[\u001b[0m\u001b[0msock\u001b[0m\u001b[1;33m]\u001b[0m\u001b[1;33m)\u001b[0m\u001b[1;33m.\u001b[0m\u001b[0mrun\u001b[0m\u001b[1;33m(\u001b[0m\u001b[1;33m)\u001b[0m\u001b[1;33m\u001b[0m\u001b[1;33m\u001b[0m\u001b[0m\n\u001b[0;32m    451\u001b[0m     \u001b[1;32melse\u001b[0m\u001b[1;33m:\u001b[0m\u001b[1;33m\u001b[0m\u001b[1;33m\u001b[0m\u001b[0m\n\u001b[1;32m--> 452\u001b[1;33m         \u001b[0mserver\u001b[0m\u001b[1;33m.\u001b[0m\u001b[0mrun\u001b[0m\u001b[1;33m(\u001b[0m\u001b[1;33m)\u001b[0m\u001b[1;33m\u001b[0m\u001b[1;33m\u001b[0m\u001b[0m\n\u001b[0m\u001b[0;32m    453\u001b[0m     \u001b[1;32mif\u001b[0m \u001b[0mconfig\u001b[0m\u001b[1;33m.\u001b[0m\u001b[0muds\u001b[0m\u001b[1;33m:\u001b[0m\u001b[1;33m\u001b[0m\u001b[1;33m\u001b[0m\u001b[0m\n\u001b[0;32m    454\u001b[0m         \u001b[0mos\u001b[0m\u001b[1;33m.\u001b[0m\u001b[0mremove\u001b[0m\u001b[1;33m(\u001b[0m\u001b[0mconfig\u001b[0m\u001b[1;33m.\u001b[0m\u001b[0muds\u001b[0m\u001b[1;33m)\u001b[0m  \u001b[1;31m# pragma: py-win32\u001b[0m\u001b[1;33m\u001b[0m\u001b[1;33m\u001b[0m\u001b[0m\n",
      "\u001b[1;32mc:\\users\\biyombooo\\appdata\\local\\programs\\python\\python39\\lib\\site-packages\\uvicorn\\server.py\u001b[0m in \u001b[0;36mrun\u001b[1;34m(self, sockets)\u001b[0m\n\u001b[0;32m     66\u001b[0m         \u001b[0mself\u001b[0m\u001b[1;33m.\u001b[0m\u001b[0mconfig\u001b[0m\u001b[1;33m.\u001b[0m\u001b[0msetup_event_loop\u001b[0m\u001b[1;33m(\u001b[0m\u001b[1;33m)\u001b[0m\u001b[1;33m\u001b[0m\u001b[1;33m\u001b[0m\u001b[0m\n\u001b[0;32m     67\u001b[0m         \u001b[1;32mif\u001b[0m \u001b[0msys\u001b[0m\u001b[1;33m.\u001b[0m\u001b[0mversion_info\u001b[0m \u001b[1;33m>=\u001b[0m \u001b[1;33m(\u001b[0m\u001b[1;36m3\u001b[0m\u001b[1;33m,\u001b[0m \u001b[1;36m7\u001b[0m\u001b[1;33m)\u001b[0m\u001b[1;33m:\u001b[0m\u001b[1;33m\u001b[0m\u001b[1;33m\u001b[0m\u001b[0m\n\u001b[1;32m---> 68\u001b[1;33m             \u001b[1;32mreturn\u001b[0m \u001b[0masyncio\u001b[0m\u001b[1;33m.\u001b[0m\u001b[0mrun\u001b[0m\u001b[1;33m(\u001b[0m\u001b[0mself\u001b[0m\u001b[1;33m.\u001b[0m\u001b[0mserve\u001b[0m\u001b[1;33m(\u001b[0m\u001b[0msockets\u001b[0m\u001b[1;33m=\u001b[0m\u001b[0msockets\u001b[0m\u001b[1;33m)\u001b[0m\u001b[1;33m)\u001b[0m\u001b[1;33m\u001b[0m\u001b[1;33m\u001b[0m\u001b[0m\n\u001b[0m\u001b[0;32m     69\u001b[0m         \u001b[1;32mreturn\u001b[0m \u001b[0masyncio\u001b[0m\u001b[1;33m.\u001b[0m\u001b[0mget_event_loop\u001b[0m\u001b[1;33m(\u001b[0m\u001b[1;33m)\u001b[0m\u001b[1;33m.\u001b[0m\u001b[0mrun_until_complete\u001b[0m\u001b[1;33m(\u001b[0m\u001b[0mself\u001b[0m\u001b[1;33m.\u001b[0m\u001b[0mserve\u001b[0m\u001b[1;33m(\u001b[0m\u001b[0msockets\u001b[0m\u001b[1;33m=\u001b[0m\u001b[0msockets\u001b[0m\u001b[1;33m)\u001b[0m\u001b[1;33m)\u001b[0m\u001b[1;33m\u001b[0m\u001b[1;33m\u001b[0m\u001b[0m\n\u001b[0;32m     70\u001b[0m \u001b[1;33m\u001b[0m\u001b[0m\n",
      "\u001b[1;32mc:\\users\\biyombooo\\appdata\\local\\programs\\python\\python39\\lib\\asyncio\\runners.py\u001b[0m in \u001b[0;36mrun\u001b[1;34m(main, debug)\u001b[0m\n\u001b[0;32m     31\u001b[0m     \"\"\"\n\u001b[0;32m     32\u001b[0m     \u001b[1;32mif\u001b[0m \u001b[0mevents\u001b[0m\u001b[1;33m.\u001b[0m\u001b[0m_get_running_loop\u001b[0m\u001b[1;33m(\u001b[0m\u001b[1;33m)\u001b[0m \u001b[1;32mis\u001b[0m \u001b[1;32mnot\u001b[0m \u001b[1;32mNone\u001b[0m\u001b[1;33m:\u001b[0m\u001b[1;33m\u001b[0m\u001b[1;33m\u001b[0m\u001b[0m\n\u001b[1;32m---> 33\u001b[1;33m         raise RuntimeError(\n\u001b[0m\u001b[0;32m     34\u001b[0m             \"asyncio.run() cannot be called from a running event loop\")\n\u001b[0;32m     35\u001b[0m \u001b[1;33m\u001b[0m\u001b[0m\n",
      "\u001b[1;31mRuntimeError\u001b[0m: asyncio.run() cannot be called from a running event loop"
     ]
    }
   ],
   "source": [
    "uvicorn.run(app, host=\"0.0.0.0\", port=8000)"
   ]
  },
  {
   "cell_type": "code",
   "execution_count": null,
   "id": "found-mumbai",
   "metadata": {},
   "outputs": [],
   "source": []
  }
 ],
 "metadata": {
  "kernelspec": {
   "display_name": "Python 3",
   "language": "python",
   "name": "python3"
  },
  "language_info": {
   "codemirror_mode": {
    "name": "ipython",
    "version": 3
   },
   "file_extension": ".py",
   "mimetype": "text/x-python",
   "name": "python",
   "nbconvert_exporter": "python",
   "pygments_lexer": "ipython3",
   "version": "3.9.2"
  }
 },
 "nbformat": 4,
 "nbformat_minor": 5
}
