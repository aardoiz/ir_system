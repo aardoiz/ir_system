{
 "cells": [
  {
   "cell_type": "code",
   "execution_count": 14,
   "id": "running-insertion",
   "metadata": {},
   "outputs": [],
   "source": [
    "import json\n",
    "import spacy\n",
    "from sentence_transformers import SentenceTransformer\n",
    "from os import listdir\n",
    "import pickle\n",
    "import torch"
   ]
  },
  {
   "cell_type": "code",
   "execution_count": 7,
   "id": "cross-constitutional",
   "metadata": {},
   "outputs": [],
   "source": [
    "model = SentenceTransformer(\"eduardofv/stsb-m-mt-es-distiluse-base-multilingual-cased-v1\")"
   ]
  },
  {
   "cell_type": "code",
   "execution_count": 8,
   "id": "chubby-keyboard",
   "metadata": {},
   "outputs": [],
   "source": [
    "#Generamos la lista de frases para guardarla en un pickle\n",
    "\n",
    "all_from_source = []\n",
    "\n",
    "for file in listdir('C:\\\\Users\\\\Biyombooo\\\\Desktop\\\\Cuadernos jupyter\\\\tfm\\\\json'):\n",
    "    with open(f'json\\\\{file}', 'rb') as f:\n",
    "        frases = json.load(f)\n",
    "        all_from_source.append(frases)\n",
    "        \n",
    "with open('pickle\\\\dicts.pkl', 'wb') as f:\n",
    "    pickle.dump(all_from_source, f)"
   ]
  },
  {
   "cell_type": "code",
   "execution_count": 10,
   "id": "convinced-amino",
   "metadata": {},
   "outputs": [],
   "source": [
    "# Sacamos la lista de oraciones y dos lista de misma longitud para saber a qué párrafo de que documento corresponde \n",
    "\n",
    "sentences_from_source = []\n",
    "paragraphs_from_source = []\n",
    "documents_from_source = []\n",
    "\n",
    "for documento in all_from_source:\n",
    "    for frase in documento['content']:\n",
    "        \n",
    "        sentences_from_source.append(frase)\n",
    "        documents_from_source.append((documento['name'], documento['subname']))\n",
    "        \n",
    "    for frase in documento['paragraph']:\n",
    "        paragraphs_from_source.append(frase)\n",
    "    "
   ]
  },
  {
   "cell_type": "code",
   "execution_count": 12,
   "id": "identified-laugh",
   "metadata": {},
   "outputs": [
    {
     "name": "stdout",
     "output_type": "stream",
     "text": [
      "1286\n",
      "1286\n",
      "1286\n"
     ]
    }
   ],
   "source": [
    "# Creamos los pickle de cada cosa\n",
    "print(len(sentences_from_source))\n",
    "print(len(paragraphs_from_source))\n",
    "print(len(documents_from_source))\n",
    "with open('pickle\\\\sentences.pkl', 'wb') as f:\n",
    "    pickle.dump(sentences_from_source, f)\n",
    "    \n",
    "with open('pickle\\\\paragraphs.pkl', 'wb') as f:\n",
    "    pickle.dump(paragraphs_from_source, f)\n",
    "    \n",
    "with open('pickle\\\\documents.pkl', 'wb') as f:\n",
    "    pickle.dump(documents_from_source, f)"
   ]
  },
  {
   "cell_type": "code",
   "execution_count": 15,
   "id": "affiliated-manor",
   "metadata": {},
   "outputs": [],
   "source": [
    "embeddings = model.encode(sentences_from_source, convert_to_tensor=True)"
   ]
  },
  {
   "cell_type": "code",
   "execution_count": 49,
   "id": "executive-newport",
   "metadata": {},
   "outputs": [],
   "source": [
    "with open('pickle\\\\embeddings.pt', 'wb') as f:\n",
    "    torch.save(embeddings, f)\n"
   ]
  },
  {
   "cell_type": "code",
   "execution_count": null,
   "id": "developing-sharp",
   "metadata": {},
   "outputs": [],
   "source": []
  }
 ],
 "metadata": {
  "kernelspec": {
   "display_name": "Python 3",
   "language": "python",
   "name": "python3"
  },
  "language_info": {
   "codemirror_mode": {
    "name": "ipython",
    "version": 3
   },
   "file_extension": ".py",
   "mimetype": "text/x-python",
   "name": "python",
   "nbconvert_exporter": "python",
   "pygments_lexer": "ipython3",
   "version": "3.9.2"
  }
 },
 "nbformat": 4,
 "nbformat_minor": 5
}
