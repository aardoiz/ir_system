{
 "cells": [
  {
   "cell_type": "code",
   "execution_count": 1,
   "id": "soviet-purse",
   "metadata": {},
   "outputs": [],
   "source": [
    "import pickle\n",
    "from typing import List\n",
    "from pydantic import BaseModel"
   ]
  },
  {
   "cell_type": "code",
   "execution_count": 2,
   "id": "individual-defensive",
   "metadata": {},
   "outputs": [],
   "source": [
    "class results_eval(BaseModel):\n",
    "    index: int\n",
    "    question: str\n",
    "    bm_response: List[int]"
   ]
  },
  {
   "cell_type": "code",
   "execution_count": 3,
   "id": "delayed-encounter",
   "metadata": {},
   "outputs": [],
   "source": [
    "# AQUÍ SE CAMBIA EL PICKLE PARA EVALUAR\n",
    "with open('../data/TFM/AblationBM/resultados_bm25_base_spacy.pkl', 'rb') as f:\n",
    "    res_bm = pickle.load(f)"
   ]
  },
  {
   "cell_type": "code",
   "execution_count": 4,
   "id": "breathing-director",
   "metadata": {},
   "outputs": [],
   "source": [
    "with open('../data/TFM/res_pyserini.pkl', 'rb') as f:\n",
    "    res_py = pickle.load(f)"
   ]
  },
  {
   "cell_type": "markdown",
   "id": "split-underwear",
   "metadata": {},
   "source": [
    "# Medida de Recall "
   ]
  },
  {
   "cell_type": "code",
   "execution_count": 11,
   "id": "timely-correction",
   "metadata": {},
   "outputs": [
    {
     "name": "stdout",
     "output_type": "stream",
     "text": [
      "Top-k 20: 0.7925712791001831%\n",
      "Top-k 10: 0.7515040544075333%\n",
      "Top-k  3: 0.6602144912372482%\n"
     ]
    }
   ],
   "source": [
    "# Medida de Recall BM25 Nuestra\n",
    "count = 0\n",
    "for a in res_bm:\n",
    "    if a.index in a.bm_response[:20]:\n",
    "        count += 1\n",
    "print(f'Top-k 20: {count/len(res_bm)}%')\n",
    "\n",
    "count = 0\n",
    "for a in res_bm:\n",
    "    if a.index in a.bm_response[:10]:\n",
    "        count += 1\n",
    "print(f'Top-k 10: {count/len(res_bm)}%')\n",
    "\n",
    "count = 0\n",
    "for a in res_bm:\n",
    "    if a.index in a.bm_response[:3]:\n",
    "        count += 1\n",
    "print(f'Top-k  3: {count/len(res_bm)}%')"
   ]
  },
  {
   "cell_type": "code",
   "execution_count": 12,
   "id": "phantom-stopping",
   "metadata": {},
   "outputs": [
    {
     "name": "stdout",
     "output_type": "stream",
     "text": [
      "Top-k 20: 0.791939282910233%\n",
      "Top-k 10: 0.7529442554305156%\n",
      "Top-k  3: 0.654278984559016%\n"
     ]
    }
   ],
   "source": [
    "# Medida de Recall BM25 Pyserini\n",
    "count = 0\n",
    "for a in res_py:\n",
    "    if a.index in a.bm_response[:20]:\n",
    "        count += 1\n",
    "print(f'Top-k 20: {count/len(res_py)}%')\n",
    "\n",
    "count = 0\n",
    "for a in res_py:\n",
    "    if a.index in a.bm_response[:10]:\n",
    "        count += 1\n",
    "print(f'Top-k 10: {count/len(res_py)}%')\n",
    "\n",
    "count = 0\n",
    "for a in res_py:\n",
    "    if a.index in a.bm_response[:3]:\n",
    "        count += 1\n",
    "print(f'Top-k  3: {count/len(res_py)}%')"
   ]
  },
  {
   "cell_type": "markdown",
   "id": "fluid-appreciation",
   "metadata": {},
   "source": [
    "# Medida de MRR"
   ]
  },
  {
   "cell_type": "code",
   "execution_count": 14,
   "id": "faced-duncan",
   "metadata": {},
   "outputs": [],
   "source": [
    "with open('../data/TFM/AblationCross/resultados_cross_base.pkl', 'rb') as f:\n",
    "    res_ce = pickle.load(f)"
   ]
  },
  {
   "cell_type": "code",
   "execution_count": 15,
   "id": "confident-induction",
   "metadata": {},
   "outputs": [
    {
     "name": "stdout",
     "output_type": "stream",
     "text": [
      "0.6973772419945331%\n"
     ]
    }
   ],
   "source": [
    "# Medida de MRR Nuestra\n",
    "count = 0\n",
    "for a in res_ce:\n",
    "    if a.index in a.bm_response:\n",
    "        puesto = a.bm_response.index(a.index)\n",
    "        count += 1/(puesto+1)\n",
    "        \n",
    "print(f'{count/len(res_ce)}%')"
   ]
  },
  {
   "cell_type": "code",
   "execution_count": 16,
   "id": "incredible-infrastructure",
   "metadata": {},
   "outputs": [
    {
     "name": "stdout",
     "output_type": "stream",
     "text": [
      "0.5999189940304833%\n"
     ]
    }
   ],
   "source": [
    "# Medida de MRR Pyserini\n",
    "count = 0\n",
    "for a in res_py:\n",
    "    if a.index in a.bm_response[:7]:\n",
    "        puesto = a.bm_response.index(a.index)\n",
    "        count += 1/(puesto+1)\n",
    "        \n",
    "print(f'{count/len(res_py)}%')"
   ]
  }
 ],
 "metadata": {
  "kernelspec": {
   "display_name": "Python 3",
   "language": "python",
   "name": "python3"
  },
  "language_info": {
   "codemirror_mode": {
    "name": "ipython",
    "version": 3
   },
   "file_extension": ".py",
   "mimetype": "text/x-python",
   "name": "python",
   "nbconvert_exporter": "python",
   "pygments_lexer": "ipython3",
   "version": "3.9.2"
  }
 },
 "nbformat": 4,
 "nbformat_minor": 5
}
