{
  "nbformat": 4,
  "nbformat_minor": 0,
  "metadata": {
    "colab": {
      "provenance": [],
      "collapsed_sections": []
    },
    "kernelspec": {
      "name": "python3",
      "display_name": "Python 3"
    },
    "language_info": {
      "name": "python"
    }
  },
  "cells": [
    {
      "cell_type": "code",
      "metadata": {
        "id": "pJd_cO9kFceQ"
      },
      "source": [
        "!pip install sentence-transformers"
      ],
      "execution_count": null,
      "outputs": []
    },
    {
      "cell_type": "code",
      "metadata": {
        "id": "H18oKQ8hFi1d"
      },
      "source": [
        "from sentence_transformers import SentenceTransformer, util, CrossEncoder\n",
        "import torch"
      ],
      "execution_count": null,
      "outputs": []
    },
    {
      "cell_type": "markdown",
      "source": [
        "# BI-ENCODER"
      ],
      "metadata": {
        "id": "ArXDWIgCeWw8"
      }
    },
    {
      "cell_type": "code",
      "metadata": {
        "id": "sUzX9lX0HUj_"
      },
      "source": [
        "model_DBM1 = SentenceTransformer('distiluse-base-multilingual-cased-v1')\n",
        "model_DBM2 = SentenceTransformer('distiluse-base-multilingual-cased-v2')\n",
        "\n",
        "model_PA1 = SentenceTransformer(\"paraphrase-multilingual-MiniLM-L12-v2\")\n",
        "model_PA2 = SentenceTransformer(\"paraphrase-multilingual-mpnet-base-v2\")\n",
        "\n",
        "model_EDU = SentenceTransformer('eduardofv/stsb-m-mt-es-distiluse-base-multilingual-cased-v1')\n",
        "model_HIA = SentenceTransformer(\"hiiamsid/sentence_similarity_spanish_es\")"
      ],
      "execution_count": null,
      "outputs": []
    },
    {
      "cell_type": "code",
      "metadata": {
        "id": "v4Z9nBnFLfwq"
      },
      "source": [
        "# Two lists of sentences\n",
        "sentences1 = ['Luis Guridi García\" (nacido el 19 de junio de 1958 en Madrid) es un director de cine español, miembro de La Cuadrilla, junto con Santiago Aguilar Alvear.',\n",
        "             'My Scene\" es una línea de muñecas de la empresa Mattel derivada de Barbie lanzada para competir comercialmente con las muñecas Bratz de la empresa MGA.',\n",
        "             'El \"Parlamento de Fiyi\" (\"Parliament of Fiji\" en inglés), es bicameral y lo forman la Cámara de Representantes y el Senado de Fiyi.',\n",
        "             'En sus apariciones se presenta como un hombre interesado por los negocios tras conseguir la cabeza de Chiriku, por la cual quiere cobrar una recompensa.',\n",
        "             '\"Super Trouper\" es el nombre del séptimo álbum de estudio del grupo sueco ABBA, publicado en 1980 por Polar Music.',\n",
        "             '\"El Minero de Coquimbo\" era un periódico chileno, de ámbito local, editado en La Serena en 1828.',\n",
        "             'En el Lenguaje de Modelado Unificado, un \"diagrama de casos de uso\" es una especie de diagrama de comportamiento UML mejorado.',\n",
        "             'A lo largo de los años, \"X Japan\" se ha convertido en uno de los grupos más influyentes de Japón, lo que ha dado lugar a ciertas referencias en la cultura popular, ya sea de parte del mismo grupo o de sus miembros.',\n",
        "             'Por sus contribuciones a la geometría algebraica, la teoría de números y la topología ha sido considerado uno de los matemáticos más prominentes del siglo XX.',\n",
        "             'La industria de cerveza es parte de las actividades de la economía de occidente.',\n",
        "             '\"Bodies Without Organs\" o \"BWO\" es un grupo dance de Suecia formado en 2004 por Alexander Bard, Marina Schiptjenko y Martin Rolinski como vocalista.',\n",
        "             '\" Oráculo \" es un personaje de ficción representada por Gloria Foster (y después por Mary Alice) dentro de las series de la Matrix, películas creadas por los hermanos Wachowski.',\n",
        "             'La \"hemodiafiltración\" es un método de diálisis renal que combina la hemodiálisis y la hemofiltración.',\n",
        "             'Los antiguos romanos prefirieron los edificios pseudoperípteros, con un pórtico en la parte delantera, con columnas encastradas a lo largo de los lados y muros en traseros en la \"cella\".']\n",
        "\n",
        "sentences2 = ['La \"partitocracia\" o \"partidocracia\" se trata de un neologismo empleado para definir la burocracia de los partidos políticos',\n",
        "              'La serie de muñecas My Scene se introdujo por primera vez en la temporada de otoño de 2002, antes de las 2002, para competir con las Bratz',\n",
        "              'El Parlamento de Fiyi nace el 10 de octubre de 1970, cuando Fiyi consiguió la independencia del Reino Unido.',\n",
        "              'Desde sus primeras apariciones, Kakuzu demuestra ser una persona fría y muy interesada por los negocios, como lo demuestra al entregar la cabeza de Chiriku (amigo de Asuma que protegió al Señor Feudal del Fuego).',\n",
        "              '\"Super Trouper\" fue publicado por primer vez en Escandinavia el 3 de noviembre de 1980, bajo el sello de Polar Music.',\n",
        "              'El primer ejemplar de El Minero de Coquimbo apareció el 22 de marzo de 1828.',\n",
        "              'La Policía Montada es heredera de la \"North West Mounted Police\" (NWMP) y la Dominion Police, fundadas en 1873 y 1868 respectivamente.',\n",
        "              'X Japan es uno de los grupos más imitados de Japón, aquí se recoge una lista de los artistas más destacados que han versionado alguna canción suya.',\n",
        "              'Las ganancias generadas por esta nueva actividad económica beneficiaban a un reducido grupo de inversionistas y comerciantes que implantaron en la sociedad un nuevo proyecto de desarrollo.',\n",
        "              'La popularidad de la cerveza lager creció bastante cuando se desarrollaron de manera eficaz los sistemas de refrigeración a comienzos del siglo XX.',\n",
        "              '\"Bodies Without Organs\", también conocidos desde su segundo trabajo como \"BWO\" es un grupo dance sueco de éxito en Escandinavia y algunos países de Europa del este.',\n",
        "              'El Oráculo fue interpretada por Gloria Foster en las primeras dos películas de Matrix (\"Matrix\" y \"The Matrix Reloaded\") y por Mary Alice en la tercera película de Matrix (\"Matrix Revolutions\") y el vídeojuego (\"Enter the Matrix\").',\n",
        "              'La hemodiálisis es muy eficiente eliminando toxinas de bajo peso molecular y la hemofiltración es más eficiente eliminando toxinas de peso molecular más alto.',\n",
        "              'Los edificios pseudoperípteros parecen similares a los edificios \"perípteros\" con columnas exentas alrededor de la cella como un \"peristilo\".']\n"
      ],
      "execution_count": null,
      "outputs": []
    },
    {
      "cell_type": "code",
      "source": [
        "sentences1 = ['A partir de mañana 3x2 en frutería en todos tus supermercados Mercadona']\n",
        "sentences2 =['El Consejo del Espacio se reunió ayer por primera vez ']*len(sentences1)"
      ],
      "metadata": {
        "id": "Fy8jg9M9iizb"
      },
      "execution_count": null,
      "outputs": []
    },
    {
      "cell_type": "code",
      "metadata": {
        "id": "uAJcZRSXwACs"
      },
      "source": [
        "#Compute embedding for both lists\n",
        "embeddings1 = model_EDU.encode(sentences1, convert_to_tensor=True)\n",
        "embeddings2 = model_EDU.encode(sentences2, convert_to_tensor=True)\n",
        "\n",
        "#Compute cosine-similarits\n",
        "cosine_scores = util.pytorch_cos_sim(embeddings1, embeddings2)"
      ],
      "execution_count": null,
      "outputs": []
    },
    {
      "cell_type": "code",
      "metadata": {
        "colab": {
          "base_uri": "https://localhost:8080/"
        },
        "id": "us2X3N2PGPpS",
        "outputId": "1f2f300c-3bef-4965-da3c-f846bbc7c9a3"
      },
      "source": [
        "best = torch.topk(cosine_scores, 1)\n",
        "print(f\"The best results are: {best.values}\")"
      ],
      "execution_count": null,
      "outputs": [
        {
          "output_type": "stream",
          "name": "stdout",
          "text": [
            "The best results are: tensor([[0.0394]])\n"
          ]
        }
      ]
    },
    {
      "cell_type": "code",
      "metadata": {
        "colab": {
          "base_uri": "https://localhost:8080/"
        },
        "id": "VW3XEa_cGPsW",
        "outputId": "c1ebc9b9-6ec3-431e-d12c-5cc631f0dd6e"
      },
      "source": [
        "for ind in best.indices[0]:\n",
        "  print(sentences1[ind])#), best.values[0][ind])"
      ],
      "execution_count": null,
      "outputs": [
        {
          "output_type": "stream",
          "name": "stdout",
          "text": [
            "<class 'torch.Tensor'>\n",
            "Artritis idiopática juvenil (AIJ) Tofacitinib está indicado para el tratamiento de la artritis idiopática juvenil poliarticular activa (poliartritis con factor reumatoide positivo o negativo y oligoartritis extendida), y de la artritis psoriásica juvenil (APS) en pacientes de 2 años de edad o mayores, que hayan respondido de forma inadecuada al tratamiento previo con DMARDs. Tofacitinib puede administrarse en combinación con metotrexato (MTX) o como monoterapia en caso de intolerancia al MTX o cuando el tratamiento continuado con MTX sea inadecuado.\n",
            "<class 'torch.Tensor'>\n",
            "Artritis psoriásica Xeljanz en combinación con MTX está indicado para el tratamiento de la artritis psoriásica (APs) activa en pacientes adultos que han tenido una respuesta inadecuada o que han sido intolerantes a un tratamiento previo con un fármaco antirreumático modificador de la enfermedad (FAME) (ver sección 5.1).\n",
            "<class 'torch.Tensor'>\n",
            "Espondilitis anquilosante Tofacitinib está indicado para el tratamiento de pacientes adultos con espondilitis anquilosante (EA) activa que han respondido inadecuadamente a la terapia convencional. \n",
            "<class 'torch.Tensor'>\n",
            "Colitis ulcerosa Tofacitinib está indicado para el tratamiento de pacientes adultos con colitis ulcerosa (CU) activa de moderada a grave que hayan tenido una respuesta inadecuada, hayan perdido la respuesta o sean intolerantes a la terapia convencional o a un agente biológico (ver sección 5.1)\". \n"
          ]
        }
      ]
    },
    {
      "cell_type": "code",
      "metadata": {
        "id": "DCk3D69rdNYY"
      },
      "source": [
        "output = []\n",
        "for score, idx in zip(best[0], best[1]):\n",
        "    for iii, i in enumerate(idx):\n",
        "      output.append((sentences1[i], score[iii]))"
      ],
      "execution_count": null,
      "outputs": []
    },
    {
      "cell_type": "code",
      "metadata": {
        "id": "F_sZz_tlGPut",
        "colab": {
          "base_uri": "https://localhost:8080/"
        },
        "outputId": "b007ec76-2b1d-4a15-f47f-872ef0ae0c91"
      },
      "source": [
        "output"
      ],
      "execution_count": null,
      "outputs": [
        {
          "output_type": "execute_result",
          "data": {
            "text/plain": [
              "[('Artritis idiopática juvenil (AIJ) Tofacitinib está indicado para el tratamiento de la artritis idiopática juvenil poliarticular activa (poliartritis con factor reumatoide positivo o negativo y oligoartritis extendida), y de la artritis psoriásica juvenil (APS) en pacientes de 2 años de edad o mayores, que hayan respondido de forma inadecuada al tratamiento previo con DMARDs. Tofacitinib puede administrarse en combinación con metotrexato (MTX) o como monoterapia en caso de intolerancia al MTX o cuando el tratamiento continuado con MTX sea inadecuado.',\n",
              "  tensor(0.6830)),\n",
              " ('Artritis psoriásica Xeljanz en combinación con MTX está indicado para el tratamiento de la artritis psoriásica (APs) activa en pacientes adultos que han tenido una respuesta inadecuada o que han sido intolerantes a un tratamiento previo con un fármaco antirreumático modificador de la enfermedad (FAME) (ver sección 5.1).',\n",
              "  tensor(0.6830)),\n",
              " ('Espondilitis anquilosante Tofacitinib está indicado para el tratamiento de pacientes adultos con espondilitis anquilosante (EA) activa que han respondido inadecuadamente a la terapia convencional. ',\n",
              "  tensor(0.6830)),\n",
              " ('Colitis ulcerosa Tofacitinib está indicado para el tratamiento de pacientes adultos con colitis ulcerosa (CU) activa de moderada a grave que hayan tenido una respuesta inadecuada, hayan perdido la respuesta o sean intolerantes a la terapia convencional o a un agente biológico (ver sección 5.1)\". ',\n",
              "  tensor(0.6830)),\n",
              " ('Artritis idiopática juvenil (AIJ) Tofacitinib está indicado para el tratamiento de la artritis idiopática juvenil poliarticular activa (poliartritis con factor reumatoide positivo o negativo y oligoartritis extendida), y de la artritis psoriásica juvenil (APS) en pacientes de 2 años de edad o mayores, que hayan respondido de forma inadecuada al tratamiento previo con DMARDs. Tofacitinib puede administrarse en combinación con metotrexato (MTX) o como monoterapia en caso de intolerancia al MTX o cuando el tratamiento continuado con MTX sea inadecuado.',\n",
              "  tensor(0.6389)),\n",
              " ('Artritis psoriásica Xeljanz en combinación con MTX está indicado para el tratamiento de la artritis psoriásica (APs) activa en pacientes adultos que han tenido una respuesta inadecuada o que han sido intolerantes a un tratamiento previo con un fármaco antirreumático modificador de la enfermedad (FAME) (ver sección 5.1).',\n",
              "  tensor(0.6389)),\n",
              " ('Espondilitis anquilosante Tofacitinib está indicado para el tratamiento de pacientes adultos con espondilitis anquilosante (EA) activa que han respondido inadecuadamente a la terapia convencional. ',\n",
              "  tensor(0.6389)),\n",
              " ('Colitis ulcerosa Tofacitinib está indicado para el tratamiento de pacientes adultos con colitis ulcerosa (CU) activa de moderada a grave que hayan tenido una respuesta inadecuada, hayan perdido la respuesta o sean intolerantes a la terapia convencional o a un agente biológico (ver sección 5.1)\". ',\n",
              "  tensor(0.6389)),\n",
              " ('Artritis idiopática juvenil (AIJ) Tofacitinib está indicado para el tratamiento de la artritis idiopática juvenil poliarticular activa (poliartritis con factor reumatoide positivo o negativo y oligoartritis extendida), y de la artritis psoriásica juvenil (APS) en pacientes de 2 años de edad o mayores, que hayan respondido de forma inadecuada al tratamiento previo con DMARDs. Tofacitinib puede administrarse en combinación con metotrexato (MTX) o como monoterapia en caso de intolerancia al MTX o cuando el tratamiento continuado con MTX sea inadecuado.',\n",
              "  tensor(0.7507)),\n",
              " ('Artritis psoriásica Xeljanz en combinación con MTX está indicado para el tratamiento de la artritis psoriásica (APs) activa en pacientes adultos que han tenido una respuesta inadecuada o que han sido intolerantes a un tratamiento previo con un fármaco antirreumático modificador de la enfermedad (FAME) (ver sección 5.1).',\n",
              "  tensor(0.7507)),\n",
              " ('Espondilitis anquilosante Tofacitinib está indicado para el tratamiento de pacientes adultos con espondilitis anquilosante (EA) activa que han respondido inadecuadamente a la terapia convencional. ',\n",
              "  tensor(0.7507)),\n",
              " ('Colitis ulcerosa Tofacitinib está indicado para el tratamiento de pacientes adultos con colitis ulcerosa (CU) activa de moderada a grave que hayan tenido una respuesta inadecuada, hayan perdido la respuesta o sean intolerantes a la terapia convencional o a un agente biológico (ver sección 5.1)\". ',\n",
              "  tensor(0.7507)),\n",
              " ('Artritis idiopática juvenil (AIJ) Tofacitinib está indicado para el tratamiento de la artritis idiopática juvenil poliarticular activa (poliartritis con factor reumatoide positivo o negativo y oligoartritis extendida), y de la artritis psoriásica juvenil (APS) en pacientes de 2 años de edad o mayores, que hayan respondido de forma inadecuada al tratamiento previo con DMARDs. Tofacitinib puede administrarse en combinación con metotrexato (MTX) o como monoterapia en caso de intolerancia al MTX o cuando el tratamiento continuado con MTX sea inadecuado.',\n",
              "  tensor(0.8901)),\n",
              " ('Artritis psoriásica Xeljanz en combinación con MTX está indicado para el tratamiento de la artritis psoriásica (APs) activa en pacientes adultos que han tenido una respuesta inadecuada o que han sido intolerantes a un tratamiento previo con un fármaco antirreumático modificador de la enfermedad (FAME) (ver sección 5.1).',\n",
              "  tensor(0.8901)),\n",
              " ('Espondilitis anquilosante Tofacitinib está indicado para el tratamiento de pacientes adultos con espondilitis anquilosante (EA) activa que han respondido inadecuadamente a la terapia convencional. ',\n",
              "  tensor(0.8901)),\n",
              " ('Colitis ulcerosa Tofacitinib está indicado para el tratamiento de pacientes adultos con colitis ulcerosa (CU) activa de moderada a grave que hayan tenido una respuesta inadecuada, hayan perdido la respuesta o sean intolerantes a la terapia convencional o a un agente biológico (ver sección 5.1)\". ',\n",
              "  tensor(0.8901))]"
            ]
          },
          "metadata": {},
          "execution_count": 13
        }
      ]
    },
    {
      "cell_type": "code",
      "metadata": {
        "colab": {
          "base_uri": "https://localhost:8080/"
        },
        "id": "TBU5qiQfwAlk",
        "outputId": "60d874bc-87a8-4261-a6d7-85f78fa8be6e"
      },
      "source": [
        "for i in range(len(sentences1)):\n",
        "  print(cosine_scores[0][i])\n",
        "\n",
        "max = [sorted(((cosine_scores[0][i], sentences2[i]) for i in range(len(sentences2))),reverse=True,)]"
      ],
      "execution_count": null,
      "outputs": [
        {
          "output_type": "stream",
          "name": "stdout",
          "text": [
            "tensor(-0.0271)\n",
            "tensor(0.0007)\n",
            "tensor(0.0103)\n",
            "tensor(0.1229)\n",
            "tensor(-0.0297)\n",
            "tensor(0.2103)\n",
            "tensor(0.0808)\n",
            "tensor(0.0418)\n",
            "tensor(-0.0061)\n",
            "tensor(0.0171)\n",
            "tensor(-0.0880)\n",
            "tensor(0.1475)\n",
            "tensor(0.0688)\n",
            "tensor(0.0483)\n"
          ]
        }
      ]
    },
    {
      "cell_type": "code",
      "metadata": {
        "id": "XrsknaalwAn3"
      },
      "source": [
        "sentences1 = ['Luis Guridi García\" (nacido el 19 de junio de 1958 en Madrid) es un director de cine español, miembro de La Cuadrilla, junto con Santiago Aguilar Alvear.']"
      ],
      "execution_count": null,
      "outputs": []
    },
    {
      "cell_type": "code",
      "metadata": {
        "id": "5LmtDpth11rD",
        "colab": {
          "base_uri": "https://localhost:8080/"
        },
        "outputId": "3ff118da-41c9-48bc-93ef-f532cd356922"
      },
      "source": [
        "max[0][:5]"
      ],
      "execution_count": null,
      "outputs": [
        {
          "output_type": "execute_result",
          "data": {
            "text/plain": [
              "[(tensor(0.2103),\n",
              "  'El primer ejemplar de El Minero de Coquimbo apareció el 22 de marzo de 1828.'),\n",
              " (tensor(0.1475),\n",
              "  'El Oráculo fue interpretada por Gloria Foster en las primeras dos películas de Matrix (\"Matrix\" y \"The Matrix Reloaded\") y por Mary Alice en la tercera película de Matrix (\"Matrix Revolutions\") y el vídeojuego (\"Enter the Matrix\").'),\n",
              " (tensor(0.1229),\n",
              "  'Desde sus primeras apariciones, Kakuzu demuestra ser una persona fría y muy interesada por los negocios, como lo demuestra al entregar la cabeza de Chiriku (amigo de Asuma que protegió al Señor Feudal del Fuego).'),\n",
              " (tensor(0.0808),\n",
              "  'La Policía Montada es heredera de la \"North West Mounted Police\" (NWMP) y la Dominion Police, fundadas en 1873 y 1868 respectivamente.'),\n",
              " (tensor(0.0688),\n",
              "  'La hemodiálisis es muy eficiente eliminando toxinas de bajo peso molecular y la hemofiltración es más eficiente eliminando toxinas de peso molecular más alto.')]"
            ]
          },
          "metadata": {},
          "execution_count": 80
        }
      ]
    },
    {
      "cell_type": "markdown",
      "source": [
        "# CROSS-ENCODER"
      ],
      "metadata": {
        "id": "IPO9NgPXeThf"
      }
    },
    {
      "cell_type": "code",
      "metadata": {
        "id": "UMDM3zXxijyO",
        "colab": {
          "base_uri": "https://localhost:8080/"
        },
        "outputId": "1abbae1f-9a19-499b-818e-caf9d7536b98"
      },
      "source": [
        "from sentence_transformers.cross_encoder import CrossEncoder\n",
        "import numpy as np\n",
        "\n",
        "# Pre-trained cross encoder\n",
        "model = CrossEncoder('cross-encoder/stsb-distilroberta-base')"
      ],
      "execution_count": null,
      "outputs": [
        {
          "output_type": "stream",
          "name": "stdout",
          "text": [
            "Query: Cómo se llama mi gato\n",
            "0.69\tLa boca de mi gato huele a comida de gato, pero la boca de mi perro huele a comida de perro\n",
            "0.49\tMi gato se llama guantes y tiene una gran cicatriz en el ojo, cual Kratos\n",
            "0.22\tGato, perro y conejo; esos son mis tres animales favoritos\n",
            "0.19\tLos gatetes de mi padre se llaman Esponja y Narciso; los compró de pequeño, cuando aún yo no había nacido\n",
            "0.10\tMi perro es llamado Bico, es super juguetón y le gusta mucho ir a su bola\n"
          ]
        }
      ]
    },
    {
      "cell_type": "code",
      "metadata": {
        "id": "Duf5dHM1i_oz"
      },
      "source": [
        "# We want to compute the similarity between the query sentence\n",
        "query = 'Cómo se llama mi gato'\n",
        "\n",
        "# With all sentences in the corpus\n",
        "corpus = ['Mi gato se llama guantes y tiene una gran cicatriz en el ojo, cual Kratos',\n",
        "          'La boca de mi gato huele a comida de gato, pero la boca de mi perro huele a comida de perro',\n",
        "          'Mi perro es llamado Bico, es super juguetón y le gusta mucho ir a su bola',\n",
        "          'Los gatetes de mi padre se llaman Esponja y Narciso; los compró de pequeño, cuando aún yo no había nacido',\n",
        "          'Gato, perro y conejo; esos son mis tres animales favoritos',\n",
        "          ]\n",
        "\n",
        "# So we create the respective sentence combinations\n",
        "sentence_combinations = [[query, corpus_sentence] for corpus_sentence in corpus]\n",
        "\n",
        "# Compute the similarity scores for these combinations\n",
        "similarity_scores = model.predict(sentence_combinations)\n",
        "\n",
        "# Sort the scores in decreasing order\n",
        "sim_scores_argsort = reversed(np.argsort(similarity_scores))\n",
        "\n"
      ],
      "execution_count": null,
      "outputs": []
    },
    {
      "cell_type": "code",
      "metadata": {
        "colab": {
          "base_uri": "https://localhost:8080/"
        },
        "id": "W_CdT1ngi8yQ",
        "outputId": "272fd13a-e80e-4f45-cd7c-515653c3ffc9"
      },
      "source": [
        "for idx in sim_scores_argsort:\n",
        "  print(idx+1)"
      ],
      "execution_count": null,
      "outputs": [
        {
          "output_type": "stream",
          "name": "stdout",
          "text": [
            "2\n",
            "1\n",
            "5\n",
            "4\n",
            "3\n"
          ]
        }
      ]
    },
    {
      "cell_type": "code",
      "metadata": {
        "id": "rsJH9At_jgT_"
      },
      "source": [
        "# Print the scores\n",
        "print(\"Query:\", query)\n",
        "for idx in sim_scores_argsort:\n",
        "    print(\"{:.2f}\\t{}\".format(similarity_scores[idx], corpus[idx]))"
      ],
      "execution_count": null,
      "outputs": []
    }
  ]
}