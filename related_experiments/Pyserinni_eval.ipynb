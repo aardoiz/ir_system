{
  "nbformat": 4,
  "nbformat_minor": 0,
  "metadata": {
    "colab": {
      "provenance": [],
      "collapsed_sections": []
    },
    "kernelspec": {
      "name": "python3",
      "display_name": "Python 3"
    },
    "language_info": {
      "name": "python"
    },
    "accelerator": "GPU",
    "gpuClass": "standard"
  },
  "cells": [
    {
      "cell_type": "code",
      "source": [
        "!pip install pyserini\n",
        "!pip install faiss"
      ],
      "metadata": {
        "id": "N2-R9T_Tfw8J"
      },
      "execution_count": null,
      "outputs": []
    },
    {
      "cell_type": "code",
      "source": [
        "!apt install libomp-dev\n",
        "!python -m pip install --upgrade faiss faiss-gpu\n",
        "import faiss"
      ],
      "metadata": {
        "id": "9ZNqXksKuRyF"
      },
      "execution_count": null,
      "outputs": []
    },
    {
      "cell_type": "code",
      "source": [
        "!python -m pyserini.index.lucene --collection JsonCollection  --input col  --language es  --index indexes/col --generator DefaultLuceneDocumentGenerator  --threads 1 --storePositions --storeDocvectors --storeRaw"
      ],
      "metadata": {
        "id": "_m1DHynUrJSu"
      },
      "execution_count": null,
      "outputs": []
    },
    {
      "cell_type": "code",
      "source": [
        "!python -m pyserini.search.lucene --topics queries.tsv --index indexes/col --language es --output out.tsv --output-format msmarco  --bm25 --hits 20 --k1 0.82 --b 0.68"
      ],
      "metadata": {
        "colab": {
          "base_uri": "https://localhost:8080/"
        },
        "id": "ID5WTwirreXV",
        "outputId": "ff338f59-56af-4271-8d83-d02b1488cf1c"
      },
      "execution_count": null,
      "outputs": [
        {
          "output_type": "stream",
          "name": "stdout",
          "text": [
            "Setting BM25 parameters: k1=0.82, b=0.68\n",
            "Running queries.tsv topics, saving to out_2.tsv...\n",
            "100% 3823/3823 [00:01<00:00, 2616.25it/s]\n"
          ]
        }
      ]
    }
  ]
}